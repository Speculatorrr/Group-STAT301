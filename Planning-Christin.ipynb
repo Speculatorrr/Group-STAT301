{
 "cells": [
  {
   "cell_type": "markdown",
   "metadata": {},
   "source": [
    "## Planning Stage - Christin Wang ##"
   ]
  },
  {
   "cell_type": "code",
   "execution_count": 3,
   "metadata": {
    "vscode": {
     "languageId": "r"
    }
   },
   "outputs": [
    {
     "name": "stderr",
     "output_type": "stream",
     "text": [
      "将程序包安装入'C:/Users/chris/AppData/Local/R/win-library/4.3'\n",
      "(因为'lib'没有被指定)\n",
      "\n",
      "还安装相依关系'fastmap', 'sys', 'htmltools', 'sass', 'cachem', 'rappdirs', 'rematch', 'askpass', 'bslib', 'fontawesome', 'jquerylib', 'tinytex', 'memoise', 'blob', 'DBI', 'tidyselect', 'data.table', 'gargle', 'cellranger', 'curl', 'ids', 'rematch2', 'mime', 'openssl', 'timechange', 'systemfonts', 'textshaping', 'rmarkdown', 'selectr', 'conflicted', 'dbplyr', 'dtplyr', 'forcats', 'googledrive', 'googlesheets4', 'haven', 'httr', 'lubridate', 'modelr', 'ragg', 'readxl', 'reprex', 'rstudioapi', 'rvest'\n",
      "\n",
      "\n"
     ]
    },
    {
     "name": "stdout",
     "output_type": "stream",
     "text": [
      "程序包'fastmap'打开成功，MD5和检查也通过\n"
     ]
    },
    {
     "name": "stderr",
     "output_type": "stream",
     "text": [
      "Warning message:\n",
      "\"无法将拆除原来安装的程序包'fastmap'\"\n",
      "Warning message in file.copy(savedcopy, lib, recursive = TRUE):\n",
      "\"拷贝C:\\Users\\chris\\AppData\\Local\\R\\win-library\\4.3\\00LOCK\\fastmap\\libs\\x64\\fastmap.dll到C:\\Users\\chris\\AppData\\Local\\R\\win-library\\4.3\\fastmap\\libs\\x64\\fastmap.dll时出了问题：Permission denied \"\n",
      "Warning message:\n",
      "\"回复了'fastmap'\"\n"
     ]
    },
    {
     "name": "stdout",
     "output_type": "stream",
     "text": [
      "程序包'sys'打开成功，MD5和检查也通过\n",
      "程序包'htmltools'打开成功，MD5和检查也通过\n"
     ]
    },
    {
     "name": "stderr",
     "output_type": "stream",
     "text": [
      "Warning message:\n",
      "\"无法将拆除原来安装的程序包'htmltools'\"\n",
      "Warning message in file.copy(savedcopy, lib, recursive = TRUE):\n",
      "\"拷贝C:\\Users\\chris\\AppData\\Local\\R\\win-library\\4.3\\00LOCK\\htmltools\\libs\\x64\\htmltools.dll到C:\\Users\\chris\\AppData\\Local\\R\\win-library\\4.3\\htmltools\\libs\\x64\\htmltools.dll时出了问题：Permission denied \"\n",
      "Warning message:\n",
      "\"回复了'htmltools'\"\n"
     ]
    },
    {
     "name": "stdout",
     "output_type": "stream",
     "text": [
      "程序包'sass'打开成功，MD5和检查也通过\n",
      "程序包'cachem'打开成功，MD5和检查也通过\n",
      "程序包'rappdirs'打开成功，MD5和检查也通过\n",
      "程序包'rematch'打开成功，MD5和检查也通过\n",
      "程序包'askpass'打开成功，MD5和检查也通过\n",
      "程序包'bslib'打开成功，MD5和检查也通过\n",
      "程序包'fontawesome'打开成功，MD5和检查也通过\n",
      "程序包'jquerylib'打开成功，MD5和检查也通过\n",
      "程序包'tinytex'打开成功，MD5和检查也通过\n",
      "程序包'memoise'打开成功，MD5和检查也通过\n",
      "程序包'blob'打开成功，MD5和检查也通过\n",
      "程序包'DBI'打开成功，MD5和检查也通过\n",
      "程序包'tidyselect'打开成功，MD5和检查也通过\n",
      "程序包'data.table'打开成功，MD5和检查也通过\n",
      "程序包'gargle'打开成功，MD5和检查也通过\n",
      "程序包'cellranger'打开成功，MD5和检查也通过\n",
      "程序包'curl'打开成功，MD5和检查也通过\n",
      "程序包'ids'打开成功，MD5和检查也通过\n",
      "程序包'rematch2'打开成功，MD5和检查也通过\n",
      "程序包'mime'打开成功，MD5和检查也通过\n",
      "程序包'openssl'打开成功，MD5和检查也通过\n",
      "程序包'timechange'打开成功，MD5和检查也通过\n",
      "程序包'systemfonts'打开成功，MD5和检查也通过\n",
      "程序包'textshaping'打开成功，MD5和检查也通过\n",
      "程序包'rmarkdown'打开成功，MD5和检查也通过\n",
      "程序包'selectr'打开成功，MD5和检查也通过\n",
      "程序包'conflicted'打开成功，MD5和检查也通过\n",
      "程序包'dbplyr'打开成功，MD5和检查也通过\n",
      "程序包'dtplyr'打开成功，MD5和检查也通过\n",
      "程序包'forcats'打开成功，MD5和检查也通过\n",
      "程序包'googledrive'打开成功，MD5和检查也通过\n",
      "程序包'googlesheets4'打开成功，MD5和检查也通过\n",
      "程序包'haven'打开成功，MD5和检查也通过\n",
      "程序包'httr'打开成功，MD5和检查也通过\n",
      "程序包'lubridate'打开成功，MD5和检查也通过\n",
      "程序包'modelr'打开成功，MD5和检查也通过\n",
      "程序包'ragg'打开成功，MD5和检查也通过\n",
      "程序包'readxl'打开成功，MD5和检查也通过\n",
      "程序包'reprex'打开成功，MD5和检查也通过\n",
      "程序包'rstudioapi'打开成功，MD5和检查也通过\n",
      "程序包'rvest'打开成功，MD5和检查也通过\n",
      "程序包'tidyverse'打开成功，MD5和检查也通过\n",
      "\n",
      "下载的二进制程序包在\n",
      "\tC:\\Users\\chris\\AppData\\Local\\Temp\\RtmpQtZhzX\\downloaded_packages里\n"
     ]
    },
    {
     "name": "stderr",
     "output_type": "stream",
     "text": [
      "Warning message:\n",
      "\"程辑包'tidyverse'是用R版本4.3.3 来建造的\"\n",
      "Warning message:\n",
      "\"程辑包'forcats'是用R版本4.3.3 来建造的\"\n",
      "Warning message:\n",
      "\"程辑包'lubridate'是用R版本4.3.3 来建造的\"\n",
      "── \u001b[1mAttaching core tidyverse packages\u001b[22m ──────────────────────── tidyverse 2.0.0 ──\n",
      "\u001b[32m✔\u001b[39m \u001b[34mdplyr    \u001b[39m 1.1.3     \u001b[32m✔\u001b[39m \u001b[34mreadr    \u001b[39m 2.1.4\n",
      "\u001b[32m✔\u001b[39m \u001b[34mforcats  \u001b[39m 1.0.0     \u001b[32m✔\u001b[39m \u001b[34mstringr  \u001b[39m 1.5.0\n",
      "\u001b[32m✔\u001b[39m \u001b[34mggplot2  \u001b[39m 3.4.4     \u001b[32m✔\u001b[39m \u001b[34mtibble   \u001b[39m 3.2.1\n",
      "\u001b[32m✔\u001b[39m \u001b[34mlubridate\u001b[39m 1.9.3     \u001b[32m✔\u001b[39m \u001b[34mtidyr    \u001b[39m 1.3.0\n",
      "\u001b[32m✔\u001b[39m \u001b[34mpurrr    \u001b[39m 1.0.2     \n",
      "── \u001b[1mConflicts\u001b[22m ────────────────────────────────────────── tidyverse_conflicts() ──\n",
      "\u001b[31m✖\u001b[39m \u001b[34mdplyr\u001b[39m::\u001b[32mfilter()\u001b[39m masks \u001b[34mstats\u001b[39m::filter()\n",
      "\u001b[31m✖\u001b[39m \u001b[34mdplyr\u001b[39m::\u001b[32mlag()\u001b[39m    masks \u001b[34mstats\u001b[39m::lag()\n",
      "\u001b[31m✖\u001b[39m \u001b[34mdplyr\u001b[39m::\u001b[32mselect()\u001b[39m masks \u001b[34mMASS\u001b[39m::select()\n",
      "\u001b[36mℹ\u001b[39m Use the conflicted package (\u001b[3m\u001b[34m<http://conflicted.r-lib.org/>\u001b[39m\u001b[23m) to force all conflicts to become errors\n",
      "Warning message:\n",
      "\"程辑包'infer'是用R版本4.3.3 来建造的\"\n"
     ]
    },
    {
     "ename": "ERROR",
     "evalue": "Error in library(gridExtra): 不存在叫'gridExtra'这个名字的程辑包\n",
     "output_type": "error",
     "traceback": [
      "Error in library(gridExtra): 不存在叫'gridExtra'这个名字的程辑包\nTraceback:\n",
      "1. library(gridExtra)"
     ]
    }
   ],
   "source": [
    "library(MASS)\n",
    "install.packages(\"tidyverse\")\n",
    "library(tidyverse)\n",
    "library(repr)\n",
    "library(digest)\n",
    "library(infer)\n",
    "library(gridExtra)\n",
    "library(mlbench)\n",
    "library(AER)\n",
    "library(ISLR)\n",
    "library(broom)\n",
    "library(qqplotr)\n",
    "library(performance)\n",
    "library(see)\n",
    "library(glmbb)\n",
    "library(cowplot)"
   ]
  },
  {
   "cell_type": "code",
   "execution_count": 12,
   "metadata": {
    "vscode": {
     "languageId": "r"
    }
   },
   "outputs": [
    {
     "name": "stdout",
     "output_type": "stream",
     "text": [
      "[1] \"c:/Users/chris/OneDrive/文档/GitHub/STAT301\"\n"
     ]
    }
   ],
   "source": [
    "# Check current working directory\n",
    "print(getwd())\n",
    "setwd(\"c:/Users/chris/OneDrive/文档/GitHub/STAT301\")"
   ]
  },
  {
   "cell_type": "code",
   "execution_count": 17,
   "metadata": {
    "vscode": {
     "languageId": "r"
    }
   },
   "outputs": [
    {
     "name": "stderr",
     "output_type": "stream",
     "text": [
      "\u001b[1mRows: \u001b[22m\u001b[34m303\u001b[39m \u001b[1mColumns: \u001b[22m\u001b[34m14\u001b[39m\n",
      "\u001b[36m──\u001b[39m \u001b[1mColumn specification\u001b[22m \u001b[36m────────────────────────────────────────────────────────\u001b[39m\n",
      "\u001b[1mDelimiter:\u001b[22m \",\"\n",
      "\u001b[31mchr\u001b[39m  (2): X12, X13\n",
      "\u001b[32mdbl\u001b[39m (12): X1, X2, X3, X4, X5, X6, X7, X8, X9, X10, X11, X14\n",
      "\n",
      "\u001b[36mℹ\u001b[39m Use `spec()` to retrieve the full column specification for this data.\n",
      "\u001b[36mℹ\u001b[39m Specify the column types or set `show_col_types = FALSE` to quiet this message.\n"
     ]
    },
    {
     "data": {
      "text/html": [
       "<table class=\"dataframe\">\n",
       "<caption>A tibble: 6 × 14</caption>\n",
       "<thead>\n",
       "\t<tr><th scope=col>X1</th><th scope=col>X2</th><th scope=col>X3</th><th scope=col>X4</th><th scope=col>X5</th><th scope=col>X6</th><th scope=col>X7</th><th scope=col>X8</th><th scope=col>X9</th><th scope=col>X10</th><th scope=col>X11</th><th scope=col>X12</th><th scope=col>X13</th><th scope=col>X14</th></tr>\n",
       "\t<tr><th scope=col>&lt;dbl&gt;</th><th scope=col>&lt;dbl&gt;</th><th scope=col>&lt;dbl&gt;</th><th scope=col>&lt;dbl&gt;</th><th scope=col>&lt;dbl&gt;</th><th scope=col>&lt;dbl&gt;</th><th scope=col>&lt;dbl&gt;</th><th scope=col>&lt;dbl&gt;</th><th scope=col>&lt;dbl&gt;</th><th scope=col>&lt;dbl&gt;</th><th scope=col>&lt;dbl&gt;</th><th scope=col>&lt;chr&gt;</th><th scope=col>&lt;chr&gt;</th><th scope=col>&lt;dbl&gt;</th></tr>\n",
       "</thead>\n",
       "<tbody>\n",
       "\t<tr><td>63</td><td>1</td><td>1</td><td>145</td><td>233</td><td>1</td><td>2</td><td>150</td><td>0</td><td>2.3</td><td>3</td><td>0.0</td><td>6.0</td><td>0</td></tr>\n",
       "\t<tr><td>67</td><td>1</td><td>4</td><td>160</td><td>286</td><td>0</td><td>2</td><td>108</td><td>1</td><td>1.5</td><td>2</td><td>3.0</td><td>3.0</td><td>2</td></tr>\n",
       "\t<tr><td>67</td><td>1</td><td>4</td><td>120</td><td>229</td><td>0</td><td>2</td><td>129</td><td>1</td><td>2.6</td><td>2</td><td>2.0</td><td>7.0</td><td>1</td></tr>\n",
       "\t<tr><td>37</td><td>1</td><td>3</td><td>130</td><td>250</td><td>0</td><td>0</td><td>187</td><td>0</td><td>3.5</td><td>3</td><td>0.0</td><td>3.0</td><td>0</td></tr>\n",
       "\t<tr><td>41</td><td>0</td><td>2</td><td>130</td><td>204</td><td>0</td><td>2</td><td>172</td><td>0</td><td>1.4</td><td>1</td><td>0.0</td><td>3.0</td><td>0</td></tr>\n",
       "\t<tr><td>56</td><td>1</td><td>2</td><td>120</td><td>236</td><td>0</td><td>0</td><td>178</td><td>0</td><td>0.8</td><td>1</td><td>0.0</td><td>3.0</td><td>0</td></tr>\n",
       "</tbody>\n",
       "</table>\n"
      ],
      "text/latex": [
       "A tibble: 6 × 14\n",
       "\\begin{tabular}{llllllllllllll}\n",
       " X1 & X2 & X3 & X4 & X5 & X6 & X7 & X8 & X9 & X10 & X11 & X12 & X13 & X14\\\\\n",
       " <dbl> & <dbl> & <dbl> & <dbl> & <dbl> & <dbl> & <dbl> & <dbl> & <dbl> & <dbl> & <dbl> & <chr> & <chr> & <dbl>\\\\\n",
       "\\hline\n",
       "\t 63 & 1 & 1 & 145 & 233 & 1 & 2 & 150 & 0 & 2.3 & 3 & 0.0 & 6.0 & 0\\\\\n",
       "\t 67 & 1 & 4 & 160 & 286 & 0 & 2 & 108 & 1 & 1.5 & 2 & 3.0 & 3.0 & 2\\\\\n",
       "\t 67 & 1 & 4 & 120 & 229 & 0 & 2 & 129 & 1 & 2.6 & 2 & 2.0 & 7.0 & 1\\\\\n",
       "\t 37 & 1 & 3 & 130 & 250 & 0 & 0 & 187 & 0 & 3.5 & 3 & 0.0 & 3.0 & 0\\\\\n",
       "\t 41 & 0 & 2 & 130 & 204 & 0 & 2 & 172 & 0 & 1.4 & 1 & 0.0 & 3.0 & 0\\\\\n",
       "\t 56 & 1 & 2 & 120 & 236 & 0 & 0 & 178 & 0 & 0.8 & 1 & 0.0 & 3.0 & 0\\\\\n",
       "\\end{tabular}\n"
      ],
      "text/markdown": [
       "\n",
       "A tibble: 6 × 14\n",
       "\n",
       "| X1 &lt;dbl&gt; | X2 &lt;dbl&gt; | X3 &lt;dbl&gt; | X4 &lt;dbl&gt; | X5 &lt;dbl&gt; | X6 &lt;dbl&gt; | X7 &lt;dbl&gt; | X8 &lt;dbl&gt; | X9 &lt;dbl&gt; | X10 &lt;dbl&gt; | X11 &lt;dbl&gt; | X12 &lt;chr&gt; | X13 &lt;chr&gt; | X14 &lt;dbl&gt; |\n",
       "|---|---|---|---|---|---|---|---|---|---|---|---|---|---|\n",
       "| 63 | 1 | 1 | 145 | 233 | 1 | 2 | 150 | 0 | 2.3 | 3 | 0.0 | 6.0 | 0 |\n",
       "| 67 | 1 | 4 | 160 | 286 | 0 | 2 | 108 | 1 | 1.5 | 2 | 3.0 | 3.0 | 2 |\n",
       "| 67 | 1 | 4 | 120 | 229 | 0 | 2 | 129 | 1 | 2.6 | 2 | 2.0 | 7.0 | 1 |\n",
       "| 37 | 1 | 3 | 130 | 250 | 0 | 0 | 187 | 0 | 3.5 | 3 | 0.0 | 3.0 | 0 |\n",
       "| 41 | 0 | 2 | 130 | 204 | 0 | 2 | 172 | 0 | 1.4 | 1 | 0.0 | 3.0 | 0 |\n",
       "| 56 | 1 | 2 | 120 | 236 | 0 | 0 | 178 | 0 | 0.8 | 1 | 0.0 | 3.0 | 0 |\n",
       "\n"
      ],
      "text/plain": [
       "  X1 X2 X3 X4  X5  X6 X7 X8  X9 X10 X11 X12 X13 X14\n",
       "1 63 1  1  145 233 1  2  150 0  2.3 3   0.0 6.0 0  \n",
       "2 67 1  4  160 286 0  2  108 1  1.5 2   3.0 3.0 2  \n",
       "3 67 1  4  120 229 0  2  129 1  2.6 2   2.0 7.0 1  \n",
       "4 37 1  3  130 250 0  0  187 0  3.5 3   0.0 3.0 0  \n",
       "5 41 0  2  130 204 0  2  172 0  1.4 1   0.0 3.0 0  \n",
       "6 56 1  2  120 236 0  0  178 0  0.8 1   0.0 3.0 0  "
      ]
     },
     "metadata": {},
     "output_type": "display_data"
    }
   ],
   "source": [
    "data <- read_csv(\"processed.cleveland.data\", col_names = FALSE)\n",
    "    \n",
    "head(data)"
   ]
  },
  {
   "cell_type": "code",
   "execution_count": null,
   "metadata": {
    "vscode": {
     "languageId": "r"
    }
   },
   "outputs": [],
   "source": []
  }
 ],
 "metadata": {
  "kernelspec": {
   "display_name": "R",
   "language": "R",
   "name": "ir"
  },
  "language_info": {
   "codemirror_mode": "r",
   "file_extension": ".r",
   "mimetype": "text/x-r-source",
   "name": "R",
   "pygments_lexer": "r",
   "version": "4.3.2"
  }
 },
 "nbformat": 4,
 "nbformat_minor": 2
}
