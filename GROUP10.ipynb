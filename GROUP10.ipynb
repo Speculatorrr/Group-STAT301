{
 "cells": [
  {
   "cell_type": "markdown",
   "metadata": {},
   "source": [
    "# Group Final Report"
   ]
  },
  {
   "cell_type": "markdown",
   "metadata": {},
   "source": [
    "### Christin Wang, Rongze Wang"
   ]
  },
  {
   "cell_type": "markdown",
   "metadata": {},
   "source": [
    "## I. Introduction\n"
   ]
  },
  {
   "cell_type": "markdown",
   "metadata": {
    "tags": []
   },
   "source": [
    "## 1. Data Description ##\n",
    "In this project, we will use the dataset `processed.cleveland.data`, which contains data on the heart quality variables of 302 patients and their identity variables undergoing angiography at the Cleveland Clinic in Cleveland, Ohio. The database selects 14 varaibles from 76 attributions. The data comes from the UCI Machine Learning repository https://doi.org/10.24432/C52P4X.\n",
    "\n",
    "The definition of each selected variable:\n",
    "1. `age`: age in years\n",
    "2. `sex`: sex (1 = male; 0 = female)\n",
    "3. `cp`: chest pain type\n",
    "    - Value 1: typical angina\n",
    "    - Value 2: atypical angina\n",
    "    - Value 3: non-anginal pain\n",
    "    - Value 4: asymptomatic\n",
    "4. `trestbps`: resting blood pressure (in mm Hg on admission to the hospital)\n",
    "5. `chol`: serum cholestoral in mg/dl\n",
    "6. `fbs`: (fasting blood sugar > 120 mg/dl)  (1 = true; 0 = false)\n",
    "7. `restecg`: resting electrocardiographic results\n",
    "    - Value 0: normal\n",
    "    - Value 1: having ST-T wave abnormality (T wave inversions and/or ST elevation or depression of > 0.05 mV)\n",
    "    - Value 2: showing probable or definite left ventricular hypertrophy by Estes' criteria\n",
    "8. `thalach`: maximum heart rate achieved\n",
    "9. `exang`: exercise induced angina (1 = yes; 0 = no)\n",
    "10. `oldpeak`: ST depression induced by exercise relative to rest\n",
    "11. `slope`: the slope of the peak exercise ST segment\n",
    "    - Value 1: upsloping\n",
    "    - Value 2: flat\n",
    "    - Value 3: downsloping\n",
    "12. `ca`: number of major vessels (0-3) colored by fluoroscopy\n",
    "13. `thal`: 3 = normal; 6 = fixed defect; 7 = reversible defect\n",
    "14. `num`: diagnosis of heart disease\n",
    "    - Value 0: absence\n",
    "    - Value 1,2,3,4: presence"
   ]
  },
  {
   "cell_type": "markdown",
   "metadata": {},
   "source": [
    "## 2. Question & Literature Reviews"
   ]
  },
  {
   "cell_type": "markdown",
   "metadata": {},
   "source": [
    "As Coronary Artery Disease (CAD) is identified as one of the most leading reasons of mortality, scientists have been widely studied on the possible causes of CAD (Jones, L., et al., 1999, Inouye, M., et al., 2018).\n",
    "\n",
    "The lifetime risk of CAD is significantly high, with men being more at risk than women, and the risk remains substantial among older individuals. Additionally, high blood pressure and hypercholesterolemia, characterized by elevated cholesterol levels, are major contributors to the risk of CAD (Lloyd-Jones, Larson, Beiser, & Levy, 1999).\n",
    "\n",
    "Meanwhile, Inouye et al. (2018) highlighted that the occurrence of CAD can be associated with genetic characteristics. Although diabetes, which leads to high blood sugar, can be inherited, it has rarely been included in previous research. While extensive studies have focused on factors like age, sex, blood pressure, and cholesterol level, the role of blood sugar remains unclear.\n",
    "\n",
    "This leads to our question: **“Are sex, age, blood pressure, cholesterol level and blood sugar associated with heart disease diagnosis in the Cleveland dataset?”**\n",
    "\n",
    "To address this, we will use the Cleveland heart disease dataset (Janosi et al., 1988) to estimate the association between heart disease diagnosis and these factors. The dataset includes 13 variables and 1 response variable, collected from medical records for heart disease research. Its primary use is to distinguish between the presence (values 1, 2, 3, 4) and absence (value 0) of heart disease.\n"
   ]
  },
  {
   "cell_type": "markdown",
   "metadata": {},
   "source": [
    "## II. Methods and Results"
   ]
  },
  {
   "cell_type": "markdown",
   "metadata": {},
   "source": [
    "### A. Exploratory Data Analysis"
   ]
  },
  {
   "cell_type": "code",
   "execution_count": 1,
   "metadata": {
    "tags": [],
    "vscode": {
     "languageId": "r"
    }
   },
   "outputs": [
    {
     "name": "stderr",
     "output_type": "stream",
     "text": [
      "Warning message:\n",
      "\"程辑包'tidyverse'是用R版本4.3.3 来建造的\"\n",
      "Warning message:\n",
      "\"程辑包'forcats'是用R版本4.3.3 来建造的\"\n",
      "Warning message:\n",
      "\"程辑包'lubridate'是用R版本4.3.3 来建造的\"\n",
      "── \u001b[1mAttaching core tidyverse packages\u001b[22m ──────────────────────── tidyverse 2.0.0 ──\n",
      "\u001b[32m✔\u001b[39m \u001b[34mdplyr    \u001b[39m 1.1.3     \u001b[32m✔\u001b[39m \u001b[34mreadr    \u001b[39m 2.1.4\n",
      "\u001b[32m✔\u001b[39m \u001b[34mforcats  \u001b[39m 1.0.0     \u001b[32m✔\u001b[39m \u001b[34mstringr  \u001b[39m 1.5.0\n",
      "\u001b[32m✔\u001b[39m \u001b[34mggplot2  \u001b[39m 3.4.4     \u001b[32m✔\u001b[39m \u001b[34mtibble   \u001b[39m 3.2.1\n",
      "\u001b[32m✔\u001b[39m \u001b[34mlubridate\u001b[39m 1.9.3     \u001b[32m✔\u001b[39m \u001b[34mtidyr    \u001b[39m 1.3.0\n",
      "\u001b[32m✔\u001b[39m \u001b[34mpurrr    \u001b[39m 1.0.2     \n",
      "── \u001b[1mConflicts\u001b[22m ────────────────────────────────────────── tidyverse_conflicts() ──\n",
      "\u001b[31m✖\u001b[39m \u001b[34mdplyr\u001b[39m::\u001b[32mfilter()\u001b[39m masks \u001b[34mstats\u001b[39m::filter()\n",
      "\u001b[31m✖\u001b[39m \u001b[34mdplyr\u001b[39m::\u001b[32mlag()\u001b[39m    masks \u001b[34mstats\u001b[39m::lag()\n",
      "\u001b[31m✖\u001b[39m \u001b[34mdplyr\u001b[39m::\u001b[32mselect()\u001b[39m masks \u001b[34mMASS\u001b[39m::select()\n",
      "\u001b[36mℹ\u001b[39m Use the conflicted package (\u001b[3m\u001b[34m<http://conflicted.r-lib.org/>\u001b[39m\u001b[23m) to force all conflicts to become errors\n",
      "Warning message:\n",
      "\"程辑包'infer'是用R版本4.3.3 来建造的\"\n",
      "Warning message:\n",
      "\"程辑包'cowplot'是用R版本4.3.3 来建造的\"\n",
      "\n",
      "载入程辑包：'cowplot'\n",
      "\n",
      "\n",
      "The following object is masked from 'package:lubridate':\n",
      "\n",
      "    stamp\n",
      "\n",
      "\n",
      "Warning message:\n",
      "\"程辑包'broom'是用R版本4.3.3 来建造的\"\n",
      "Warning message:\n",
      "\"程辑包'GGally'是用R版本4.3.3 来建造的\"\n",
      "Registered S3 method overwritten by 'GGally':\n",
      "  method from   \n",
      "  +.gg   ggplot2\n",
      "\n",
      "Warning message:\n",
      "\"程辑包'AER'是用R版本4.3.3 来建造的\"\n",
      "载入需要的程辑包：car\n",
      "\n",
      "Warning message:\n",
      "\"程辑包'car'是用R版本4.3.3 来建造的\"\n",
      "载入需要的程辑包：carData\n",
      "\n",
      "Warning message:\n",
      "\"程辑包'carData'是用R版本4.3.3 来建造的\"\n",
      "\n",
      "载入程辑包：'car'\n",
      "\n",
      "\n",
      "The following object is masked from 'package:dplyr':\n",
      "\n",
      "    recode\n",
      "\n",
      "\n",
      "The following object is masked from 'package:purrr':\n",
      "\n",
      "    some\n",
      "\n",
      "\n",
      "载入需要的程辑包：lmtest\n",
      "\n",
      "Warning message:\n",
      "\"程辑包'lmtest'是用R版本4.3.3 来建造的\"\n",
      "载入需要的程辑包：zoo\n",
      "\n",
      "Warning message:\n",
      "\"程辑包'zoo'是用R版本4.3.3 来建造的\"\n",
      "\n",
      "载入程辑包：'zoo'\n",
      "\n",
      "\n",
      "The following objects are masked from 'package:base':\n",
      "\n",
      "    as.Date, as.Date.numeric\n",
      "\n",
      "\n",
      "载入需要的程辑包：sandwich\n",
      "\n",
      "Warning message:\n",
      "\"程辑包'sandwich'是用R版本4.3.3 来建造的\"\n",
      "载入需要的程辑包：survival\n",
      "\n",
      "Warning message:\n",
      "\"程辑包'modelr'是用R版本4.3.3 来建造的\"\n",
      "\n",
      "载入程辑包：'modelr'\n",
      "\n",
      "\n",
      "The following object is masked from 'package:broom':\n",
      "\n",
      "    bootstrap\n",
      "\n",
      "\n",
      "Warning message:\n",
      "\"程辑包'gridExtra'是用R版本4.3.3 来建造的\"\n",
      "\n",
      "载入程辑包：'gridExtra'\n",
      "\n",
      "\n",
      "The following object is masked from 'package:dplyr':\n",
      "\n",
      "    combine\n",
      "\n",
      "\n",
      "Warning message:\n",
      "\"程辑包'rsample'是用R版本4.3.3 来建造的\"\n",
      "Warning message:\n",
      "\"程辑包'yardstick'是用R版本4.3.3 来建造的\"\n",
      "\n",
      "载入程辑包：'yardstick'\n",
      "\n",
      "\n",
      "The following objects are masked from 'package:modelr':\n",
      "\n",
      "    mae, mape, rmse\n",
      "\n",
      "\n",
      "The following object is masked from 'package:readr':\n",
      "\n",
      "    spec\n",
      "\n",
      "\n",
      "Warning message:\n",
      "\"程辑包'faraway'是用R版本4.3.3 来建造的\"\n",
      "Warning message in check_dep_version():\n",
      "\"ABI version mismatch: \n",
      "lme4 was built with Matrix ABI version 1\n",
      "Current Matrix ABI version is 0\n",
      "Please re-install lme4 from source or restore original 'Matrix' package\"\n",
      "\n",
      "载入程辑包：'faraway'\n",
      "\n",
      "\n",
      "The following objects are masked from 'package:survival':\n",
      "\n",
      "    rats, solder\n",
      "\n",
      "\n",
      "The following objects are masked from 'package:car':\n",
      "\n",
      "    logit, vif\n",
      "\n",
      "\n",
      "The following object is masked from 'package:GGally':\n",
      "\n",
      "    happy\n",
      "\n",
      "\n",
      "Warning message:\n",
      "\"程辑包'mltools'是用R版本4.3.3 来建造的\"\n",
      "\n",
      "载入程辑包：'mltools'\n",
      "\n",
      "\n",
      "The following objects are masked from 'package:yardstick':\n",
      "\n",
      "    mcc, rmse\n",
      "\n",
      "\n",
      "The following objects are masked from 'package:modelr':\n",
      "\n",
      "    mse, rmse\n",
      "\n",
      "\n",
      "The following object is masked from 'package:tidyr':\n",
      "\n",
      "    replace_na\n",
      "\n",
      "\n",
      "Warning message:\n",
      "\"程辑包'leaps'是用R版本4.3.3 来建造的\"\n",
      "Warning message:\n",
      "\"程辑包'glmnet'是用R版本4.3.3 来建造的\"\n",
      "载入需要的程辑包：Matrix\n",
      "\n",
      "\n",
      "载入程辑包：'Matrix'\n",
      "\n",
      "\n",
      "The following objects are masked from 'package:tidyr':\n",
      "\n",
      "    expand, pack, unpack\n",
      "\n",
      "\n",
      "Loaded glmnet 4.1-8\n",
      "\n",
      "Warning message:\n",
      "\"程辑包'caret'是用R版本4.3.3 来建造的\"\n",
      "载入需要的程辑包：lattice\n",
      "\n",
      "\n",
      "载入程辑包：'lattice'\n",
      "\n",
      "\n",
      "The following object is masked from 'package:faraway':\n",
      "\n",
      "    melanoma\n",
      "\n",
      "\n",
      "\n",
      "载入程辑包：'caret'\n",
      "\n",
      "\n",
      "The following objects are masked from 'package:yardstick':\n",
      "\n",
      "    precision, recall, sensitivity, specificity\n",
      "\n",
      "\n",
      "The following object is masked from 'package:survival':\n",
      "\n",
      "    cluster\n",
      "\n",
      "\n",
      "The following object is masked from 'package:purrr':\n",
      "\n",
      "    lift\n",
      "\n",
      "\n",
      "Warning message:\n",
      "\"程辑包'ISLR'是用R版本4.3.3 来建造的\"\n",
      "Warning message:\n",
      "\"程辑包'pROC'是用R版本4.3.3 来建造的\"\n",
      "Type 'citation(\"pROC\")' for a citation.\n",
      "\n",
      "\n",
      "载入程辑包：'pROC'\n",
      "\n",
      "\n",
      "The following objects are masked from 'package:stats':\n",
      "\n",
      "    cov, smooth, var\n",
      "\n",
      "\n"
     ]
    }
   ],
   "source": [
    "library(MASS)\n",
    "library(tidyverse)\n",
    "library(repr)\n",
    "library(infer)\n",
    "library(cowplot)\n",
    "library(broom)\n",
    "library(GGally)\n",
    "library(AER)\n",
    "library(modelr)\n",
    "library(gridExtra)\n",
    "library(grid)\n",
    "library(rsample)\n",
    "library(yardstick)\n",
    "library(gridExtra)\n",
    "library(faraway)\n",
    "library(mltools)\n",
    "library(leaps)\n",
    "library(glmnet)\n",
    "library(cowplot)\n",
    "library(caret)\n",
    "library(ISLR)\n",
    "library(pROC)"
   ]
  },
  {
   "cell_type": "markdown",
   "metadata": {},
   "source": [
    "### 1. Data Preparation\n",
    "\n",
    "- Read the csv file of `processed.cleveland.data`.\n",
    "- Rename the column names of the dataset.\n",
    "- Change the diagnosis presence values (1,2,3,4) all into 1.\n",
    "- Mutate all catagorical variables into factors for coding convinience.\n",
    "- Drop any NA values."
   ]
  },
  {
   "cell_type": "code",
   "execution_count": 2,
   "metadata": {
    "tags": [],
    "vscode": {
     "languageId": "r"
    }
   },
   "outputs": [
    {
     "name": "stderr",
     "output_type": "stream",
     "text": [
      "\u001b[1mRows: \u001b[22m\u001b[34m303\u001b[39m \u001b[1mColumns: \u001b[22m\u001b[34m14\u001b[39m\n",
      "\u001b[36m──\u001b[39m \u001b[1mColumn specification\u001b[22m \u001b[36m────────────────────────────────────────────────────────\u001b[39m\n",
      "\u001b[1mDelimiter:\u001b[22m \",\"\n",
      "\u001b[31mchr\u001b[39m  (2): X12, X13\n",
      "\u001b[32mdbl\u001b[39m (12): X1, X2, X3, X4, X5, X6, X7, X8, X9, X10, X11, X14\n",
      "\n",
      "\u001b[36mℹ\u001b[39m Use `spec()` to retrieve the full column specification for this data.\n",
      "\u001b[36mℹ\u001b[39m Specify the column types or set `show_col_types = FALSE` to quiet this message.\n"
     ]
    },
    {
     "data": {
      "text/html": [
       "<table class=\"dataframe\">\n",
       "<caption>A tibble: 6 × 14</caption>\n",
       "<thead>\n",
       "\t<tr><th scope=col>age</th><th scope=col>sex</th><th scope=col>cp</th><th scope=col>trestbps</th><th scope=col>chol</th><th scope=col>fbs</th><th scope=col>restecg</th><th scope=col>thalach</th><th scope=col>exang</th><th scope=col>oldpeak</th><th scope=col>slope</th><th scope=col>ca</th><th scope=col>thal</th><th scope=col>num</th></tr>\n",
       "\t<tr><th scope=col>&lt;dbl&gt;</th><th scope=col>&lt;fct&gt;</th><th scope=col>&lt;fct&gt;</th><th scope=col>&lt;dbl&gt;</th><th scope=col>&lt;dbl&gt;</th><th scope=col>&lt;fct&gt;</th><th scope=col>&lt;fct&gt;</th><th scope=col>&lt;dbl&gt;</th><th scope=col>&lt;fct&gt;</th><th scope=col>&lt;dbl&gt;</th><th scope=col>&lt;fct&gt;</th><th scope=col>&lt;fct&gt;</th><th scope=col>&lt;fct&gt;</th><th scope=col>&lt;fct&gt;</th></tr>\n",
       "</thead>\n",
       "<tbody>\n",
       "\t<tr><td>63</td><td>1</td><td>1</td><td>145</td><td>233</td><td>1</td><td>2</td><td>150</td><td>0</td><td>2.3</td><td>3</td><td>0.0</td><td>6.0</td><td>0</td></tr>\n",
       "\t<tr><td>67</td><td>1</td><td>4</td><td>160</td><td>286</td><td>0</td><td>2</td><td>108</td><td>1</td><td>1.5</td><td>2</td><td>3.0</td><td>3.0</td><td>1</td></tr>\n",
       "\t<tr><td>67</td><td>1</td><td>4</td><td>120</td><td>229</td><td>0</td><td>2</td><td>129</td><td>1</td><td>2.6</td><td>2</td><td>2.0</td><td>7.0</td><td>1</td></tr>\n",
       "\t<tr><td>37</td><td>1</td><td>3</td><td>130</td><td>250</td><td>0</td><td>0</td><td>187</td><td>0</td><td>3.5</td><td>3</td><td>0.0</td><td>3.0</td><td>0</td></tr>\n",
       "\t<tr><td>41</td><td>0</td><td>2</td><td>130</td><td>204</td><td>0</td><td>2</td><td>172</td><td>0</td><td>1.4</td><td>1</td><td>0.0</td><td>3.0</td><td>0</td></tr>\n",
       "\t<tr><td>56</td><td>1</td><td>2</td><td>120</td><td>236</td><td>0</td><td>0</td><td>178</td><td>0</td><td>0.8</td><td>1</td><td>0.0</td><td>3.0</td><td>0</td></tr>\n",
       "</tbody>\n",
       "</table>\n"
      ],
      "text/latex": [
       "A tibble: 6 × 14\n",
       "\\begin{tabular}{llllllllllllll}\n",
       " age & sex & cp & trestbps & chol & fbs & restecg & thalach & exang & oldpeak & slope & ca & thal & num\\\\\n",
       " <dbl> & <fct> & <fct> & <dbl> & <dbl> & <fct> & <fct> & <dbl> & <fct> & <dbl> & <fct> & <fct> & <fct> & <fct>\\\\\n",
       "\\hline\n",
       "\t 63 & 1 & 1 & 145 & 233 & 1 & 2 & 150 & 0 & 2.3 & 3 & 0.0 & 6.0 & 0\\\\\n",
       "\t 67 & 1 & 4 & 160 & 286 & 0 & 2 & 108 & 1 & 1.5 & 2 & 3.0 & 3.0 & 1\\\\\n",
       "\t 67 & 1 & 4 & 120 & 229 & 0 & 2 & 129 & 1 & 2.6 & 2 & 2.0 & 7.0 & 1\\\\\n",
       "\t 37 & 1 & 3 & 130 & 250 & 0 & 0 & 187 & 0 & 3.5 & 3 & 0.0 & 3.0 & 0\\\\\n",
       "\t 41 & 0 & 2 & 130 & 204 & 0 & 2 & 172 & 0 & 1.4 & 1 & 0.0 & 3.0 & 0\\\\\n",
       "\t 56 & 1 & 2 & 120 & 236 & 0 & 0 & 178 & 0 & 0.8 & 1 & 0.0 & 3.0 & 0\\\\\n",
       "\\end{tabular}\n"
      ],
      "text/markdown": [
       "\n",
       "A tibble: 6 × 14\n",
       "\n",
       "| age &lt;dbl&gt; | sex &lt;fct&gt; | cp &lt;fct&gt; | trestbps &lt;dbl&gt; | chol &lt;dbl&gt; | fbs &lt;fct&gt; | restecg &lt;fct&gt; | thalach &lt;dbl&gt; | exang &lt;fct&gt; | oldpeak &lt;dbl&gt; | slope &lt;fct&gt; | ca &lt;fct&gt; | thal &lt;fct&gt; | num &lt;fct&gt; |\n",
       "|---|---|---|---|---|---|---|---|---|---|---|---|---|---|\n",
       "| 63 | 1 | 1 | 145 | 233 | 1 | 2 | 150 | 0 | 2.3 | 3 | 0.0 | 6.0 | 0 |\n",
       "| 67 | 1 | 4 | 160 | 286 | 0 | 2 | 108 | 1 | 1.5 | 2 | 3.0 | 3.0 | 1 |\n",
       "| 67 | 1 | 4 | 120 | 229 | 0 | 2 | 129 | 1 | 2.6 | 2 | 2.0 | 7.0 | 1 |\n",
       "| 37 | 1 | 3 | 130 | 250 | 0 | 0 | 187 | 0 | 3.5 | 3 | 0.0 | 3.0 | 0 |\n",
       "| 41 | 0 | 2 | 130 | 204 | 0 | 2 | 172 | 0 | 1.4 | 1 | 0.0 | 3.0 | 0 |\n",
       "| 56 | 1 | 2 | 120 | 236 | 0 | 0 | 178 | 0 | 0.8 | 1 | 0.0 | 3.0 | 0 |\n",
       "\n"
      ],
      "text/plain": [
       "  age sex cp trestbps chol fbs restecg thalach exang oldpeak slope ca  thal num\n",
       "1 63  1   1  145      233  1   2       150     0     2.3     3     0.0 6.0  0  \n",
       "2 67  1   4  160      286  0   2       108     1     1.5     2     3.0 3.0  1  \n",
       "3 67  1   4  120      229  0   2       129     1     2.6     2     2.0 7.0  1  \n",
       "4 37  1   3  130      250  0   0       187     0     3.5     3     0.0 3.0  0  \n",
       "5 41  0   2  130      204  0   2       172     0     1.4     1     0.0 3.0  0  \n",
       "6 56  1   2  120      236  0   0       178     0     0.8     1     0.0 3.0  0  "
      ]
     },
     "metadata": {},
     "output_type": "display_data"
    }
   ],
   "source": [
    "# Main developer: Christin Wang\n",
    "\n",
    "heart_data <- read_csv(\"https://raw.githubusercontent.com/Speculatorrr/STAT301/main/processed.cleveland.data?token=GHSAT0AAAAAACVKAVDCISXAPJBRTBVAWBUQZVEDPNQ\", \n",
    "                        col_names = FALSE)\n",
    "colnames(heart_data) <- c(\"age\", \"sex\", \"cp\", \"trestbps\", \"chol\",\n",
    "                            \"fbs\", \"restecg\", \"thalach\", \"exang\", \"oldpeak\",\n",
    "                            \"slope\", \"ca\", \"thal\", \"num\")\n",
    "\n",
    "categorical_vars <- c(\"sex\", \"cp\", \"fbs\", \"restecg\", \"exang\", \"slope\", \"ca\", \"thal\")\n",
    "\n",
    "heart_data <- heart_data %>%\n",
    "    mutate(num = if_else(num > 0, 1, 0)) %>%\n",
    "    mutate(across(all_of(categorical_vars), as.factor),\n",
    "    num = as.factor(num)) %>%\n",
    "    drop_na()\n",
    "\n",
    "head(heart_data)"
   ]
  },
  {
   "cell_type": "markdown",
   "metadata": {},
   "source": [
    "Table 1: Tidy Cleveland heart disease data"
   ]
  },
  {
   "cell_type": "markdown",
   "metadata": {},
   "source": [
    "### 2. Plotting relevant raw data"
   ]
  },
  {
   "cell_type": "markdown",
   "metadata": {},
   "source": [
    "**2.1 Bar Chart of Categorical Variables Labeled by Heart Disease Diagnosis Results**\n",
    "\n",
    "- This graph compares the frequencies of diagnosis results within 8 different categorical variables, and identifies which categorical variables are more strongly associated with heart disease. \n",
    "\n",
    "    In this case, we see that `cp`, `restecg`, `exang`, `slope`, `ca` and `thal` have a relatively stronger association with the presence of heart disease."
   ]
  },
  {
   "cell_type": "code",
   "execution_count": 4,
   "metadata": {
    "tags": [],
    "vscode": {
     "languageId": "r"
    }
   },
   "outputs": [
    {
     "name": "stderr",
     "output_type": "stream",
     "text": [
      "Warning message:\n",
      "\"\u001b[1m\u001b[22m`aes_string()` was deprecated in ggplot2 3.0.0.\n",
      "\u001b[36mℹ\u001b[39m Please use tidy evaluation idioms with `aes()`.\n",
      "\u001b[36mℹ\u001b[39m See also `vignette(\"ggplot2-in-packages\")` for more information.\"\n"
     ]
    },
    {
     "data": {
      "image/png": "[encoded data removed]",
      "text/plain": [
       "plot without title"
      ]
     },
     "metadata": {
      "image/png": {
       "height": 900,
       "width": 900
      }
     },
     "output_type": "display_data"
    }
   ],
   "source": [
    "# Main developer: Christin Wang\n",
    "options(repr.plot.width = 15, repr.plot.height = 15) \n",
    "\n",
    "draw_bar_chart <- function(data, categorical_vars, num) {\n",
    "  ggplot(data, aes_string(x = categorical_vars, fill = num)) +\n",
    "    geom_bar(position = \"dodge\") +\n",
    "    theme_minimal() +\n",
    "    theme(text = element_text(size = 20)) +\n",
    "    labs(x = categorical_vars, fill = \"Diagnosis\")\n",
    "}\n",
    "\n",
    "sex_bar <- draw_bar_chart(heart_data, \"sex\", \"num\")\n",
    "cp_bar <- draw_bar_chart(heart_data, \"cp\", \"num\")\n",
    "fbs_bar <- draw_bar_chart(heart_data, \"fbs\", \"num\")\n",
    "restecg_bar <- draw_bar_chart(heart_data, \"restecg\", \"num\")\n",
    "exang_bar <- draw_bar_chart(heart_data, \"exang\", \"num\")\n",
    "slope_bar <- draw_bar_chart(heart_data, \"slope\", \"num\")\n",
    "ca_bar <- draw_bar_chart(heart_data, \"ca\", \"num\")\n",
    "thal_bar <- draw_bar_chart(heart_data, \"thal\", \"num\")\n",
    "num_bar <- draw_bar_chart(heart_data, \"num\", \"num\")\n",
    "\n",
    "grid.arrange(\n",
    "  sex_bar, cp_bar, fbs_bar, restecg_bar,\n",
    "  exang_bar, slope_bar, ca_bar, thal_bar, num_bar,\n",
    "  ncol = 2,\n",
    "  top = textGrob(\"Categorical Covariate Barcharts\", gp = gpar(fontsize = 30, fontface = \"bold\"))\n",
    ")"
   ]
  },
  {
   "cell_type": "markdown",
   "metadata": {},
   "source": [
    "Figure 1: Categorical Covariate Barcharts"
   ]
  },
  {
   "cell_type": "markdown",
   "metadata": {},
   "source": [
    "**2.2 Correlation Matrix Heatmap of Numerical Variables**\n",
    "\n",
    "- Within this heatmap, `trestbps`&`age`, `age`&`thalach`, `oldpeak`&`thalach` are shown to have the strongest correlation. So, we might want to put multicollinearity into concern for these variables, probably dropping one afterwards.\n",
    "    "
   ]
  },
  {
   "cell_type": "code",
   "execution_count": 5,
   "metadata": {
    "tags": [],
    "vscode": {
     "languageId": "r"
    }
   },
   "outputs": [
    {
     "name": "stderr",
     "output_type": "stream",
     "text": [
      "Warning message:\n",
      "\"\u001b[1m\u001b[22mUsing an external vector in selections was deprecated in tidyselect 1.1.0.\n",
      "\u001b[36mℹ\u001b[39m Please use `all_of()` or `any_of()` instead.\n",
      "  # Was:\n",
      "  data %>% select(categorical_vars)\n",
      "\n",
      "  # Now:\n",
      "  data %>% select(all_of(categorical_vars))\n",
      "\n",
      "See <https://tidyselect.r-lib.org/reference/faq-external-vector.html>.\"\n"
     ]
    },
    {
     "data": {
      "image/png": "[encoded data removed]",
      "text/plain": [
       "plot without title"
      ]
     },
     "metadata": {
      "image/png": {
       "height": 900,
       "width": 900
      }
     },
     "output_type": "display_data"
    }
   ],
   "source": [
    "# Main developer: Christin Wang\n",
    "\n",
    "corr_matrix <- heart_data %>%\n",
    "            select(-categorical_vars, -num) %>%\n",
    "            cor() %>%\n",
    "            as_tibble(rownames = 'var1') %>%\n",
    "            pivot_longer(-var1, names_to = \"var2\", values_to = \"corr\")\n",
    "\n",
    "plot_corr_matrix <- corr_matrix %>%\n",
    "   ggplot(aes(var1, var2)) +\n",
    "   geom_tile(aes(fill = corr), color = \"white\") +\n",
    "   scale_fill_distiller(\"Correlation Coefficient \\n\",\n",
    "       palette =  \"YlOrRd\",\n",
    "       direction = 1, \n",
    "       limits = c(-1, 1)\n",
    "     ) +\n",
    "     labs(x = \"\", y = \"\") +\n",
    "     theme_minimal() +\n",
    "     theme(text = element_text(size = 30)) +\n",
    "     coord_fixed() +\n",
    "   geom_text(aes(var1, var2, label = round(corr, 2)), color = \"black\", size = 6) +\n",
    "   ggtitle(\"Correlation Matrix\")\n",
    "\n",
    "plot_corr_matrix"
   ]
  },
  {
   "cell_type": "markdown",
   "metadata": {},
   "source": [
    "Figure 2: Correlation Matrix"
   ]
  },
  {
   "cell_type": "markdown",
   "metadata": {},
   "source": [
    "**2.3 Boxplots Comparing Heart Disease Diagnosis between Numerical Variables**\n",
    "\n",
    "- We can easily see the differences in the distribution of values, including the presence of outliers, mean, median and variability. \n",
    "\n",
    "    We will compare the median since the mean may be affected by outliers.\n",
    "    In this case, we see that `age`, `oldpeak` and `thalach` has a relatively big differences between diagnosis results. Thus, may be more useful in the prediction model.\n"
   ]
  },
  {
   "cell_type": "code",
   "execution_count": 6,
   "metadata": {
    "tags": [],
    "vscode": {
     "languageId": "r"
    }
   },
   "outputs": [
    {
     "name": "stderr",
     "output_type": "stream",
     "text": [
      "Warning message:\n",
      "\"\u001b[1m\u001b[22mThe dot-dot notation (`..y..`) was deprecated in ggplot2 3.4.0.\n",
      "\u001b[36mℹ\u001b[39m Please use `after_stat(y)` instead.\"\n"
     ]
    },
    {
     "data": {
      "image/png": "[encoded data removed]",
      "text/plain": [
       "plot without title"
      ]
     },
     "metadata": {
      "image/png": {
       "height": 900,
       "width": 900
      }
     },
     "output_type": "display_data"
    }
   ],
   "source": [
    "# Main developer: Christin Wang\n",
    "\n",
    "heart_long <- heart_data %>%\n",
    "  select(- categorical_vars) %>%\n",
    "  pivot_longer(cols = -num , names_to = \"variable\", values_to = \"value\")\n",
    "\n",
    "heart_boxplot <- heart_long %>%\n",
    "  ggplot(aes(x = as.factor(num), y = value, fill = as.factor(num))) +\n",
    "  geom_boxplot() +\n",
    "  stat_summary(aes(label = round(..y.., 2)),\n",
    "               fun = median,\n",
    "               geom = \"text\",\n",
    "               position = position_nudge(x = 0.4, y = 0),\n",
    "               size = 6) +\n",
    "  facet_wrap(~ variable, scales = \"free_y\") +\n",
    "  stat_summary(aes(as.factor(num), value, fill = as.factor(num)),\n",
    "               fun = mean,\n",
    "               colour = \"yellow\",\n",
    "               geom = \"point\",\n",
    "               shape = 18,\n",
    "               size = 3) +\n",
    "  theme_minimal() +\n",
    "  theme(text = element_text(size = 20)) +\n",
    "  labs(title = \"Boxplots of Numerical Variables by Heart Disease Presence\", \n",
    "       x = \"Heart Disease Presence (0 = No, 1 = Yes)\", y = \"Value\") +\n",
    "  scale_fill_discrete(name = \"Heart Disease Presence\")\n",
    "heart_boxplot"
   ]
  },
  {
   "cell_type": "markdown",
   "metadata": {},
   "source": [
    "Figure 3: Numerical Coveriate Boxplots"
   ]
  },
  {
   "cell_type": "markdown",
   "metadata": {},
   "source": [
    "\n",
    "\n",
    "#### Visualization Conclusion\n",
    "\n",
    "After looking into the 4 graphs, we get a comprehensive overview of the data. At this point, we assume that `age`, `oldpeak`, `thalach`, `cp`, `restecg`, `exang`, `slope`, `ca` and `thal`, these 9 covariates are more relevant to heart disease diagnosis. Additionally, there may be multicollinearity amongst the variables `trestbps`,`age`, `thalach` and `oldpeak`."
   ]
  },
  {
   "cell_type": "markdown",
   "metadata": {},
   "source": [
    "### B. Methods"
   ]
  },
  {
   "cell_type": "markdown",
   "metadata": {},
   "source": [
    "### 1. Split data into train & test"
   ]
  },
  {
   "cell_type": "code",
   "execution_count": 7,
   "metadata": {
    "tags": [],
    "vscode": {
     "languageId": "r"
    }
   },
   "outputs": [],
   "source": [
    "# Main developer: Christin Wang\n",
    "\n",
    "heart_split <- \n",
    "    heart_data %>%\n",
    "    initial_split(prop = 0.7, strata = num)\n",
    "    \n",
    "heart_train <- training(heart_split)\n",
    "heart_test <- testing(heart_split)"
   ]
  },
  {
   "cell_type": "markdown",
   "metadata": {},
   "source": [
    "### 2. Fit the full Logistic Regression model by the training set"
   ]
  },
  {
   "cell_type": "code",
   "execution_count": 42,
   "metadata": {
    "tags": [],
    "vscode": {
     "languageId": "r"
    }
   },
   "outputs": [
    {
     "data": {
      "text/plain": [
       "\n",
       "Call:\n",
       "glm(formula = num ~ ., family = binomial, data = heart_train)\n",
       "\n",
       "Coefficients:\n",
       "              Estimate Std. Error z value Pr(>|z|)   \n",
       "(Intercept)  5.995e+00  1.455e+03   0.004  0.99671   \n",
       "age          1.634e-03  3.060e-02   0.053  0.95743   \n",
       "sex1         1.543e+00  6.892e-01   2.239  0.02516 * \n",
       "cp2          1.769e+00  1.094e+00   1.617  0.10591   \n",
       "cp3          9.061e-01  9.258e-01   0.979  0.32771   \n",
       "cp4          2.850e+00  9.300e-01   3.064  0.00218 **\n",
       "trestbps     3.237e-02  1.569e-02   2.064  0.03906 * \n",
       "chol         1.273e-03  4.861e-03   0.262  0.79342   \n",
       "fbs1        -1.353e+00  8.674e-01  -1.560  0.11879   \n",
       "restecg1     5.520e-01  3.181e+00   0.174  0.86224   \n",
       "restecg2     9.355e-01  5.017e-01   1.865  0.06223 . \n",
       "thalach     -8.285e-03  1.556e-02  -0.533  0.59432   \n",
       "exang1       1.285e+00  5.667e-01   2.268  0.02335 * \n",
       "oldpeak      6.857e-01  3.182e-01   2.155  0.03114 * \n",
       "slope2       8.576e-01  6.333e-01   1.354  0.17566   \n",
       "slope3      -2.145e-01  1.214e+00  -0.177  0.85970   \n",
       "ca0.0        5.066e-01  1.755e+00   0.289  0.77287   \n",
       "ca1.0        2.735e+00  1.825e+00   1.499  0.13394   \n",
       "ca2.0        2.994e+00  2.070e+00   1.446  0.14804   \n",
       "ca3.0        3.862e+00  2.162e+00   1.787  0.07399 . \n",
       "thal3.0     -1.637e+01  1.455e+03  -0.011  0.99102   \n",
       "thal6.0     -1.589e+01  1.455e+03  -0.011  0.99129   \n",
       "thal7.0     -1.469e+01  1.455e+03  -0.010  0.99195   \n",
       "---\n",
       "Signif. codes:  0 '***' 0.001 '**' 0.01 '*' 0.05 '.' 0.1 ' ' 1\n",
       "\n",
       "(Dispersion parameter for binomial family taken to be 1)\n",
       "\n",
       "    Null deviance: 291.14  on 210  degrees of freedom\n",
       "Residual deviance: 121.81  on 188  degrees of freedom\n",
       "AIC: 167.81\n",
       "\n",
       "Number of Fisher Scoring iterations: 14\n"
      ]
     },
     "metadata": {},
     "output_type": "display_data"
    }
   ],
   "source": [
    "# Main developer: Christin Wang\n",
    "\n",
    "heart_full_log <- glm(num ~ .,\n",
    "                data = heart_train,\n",
    "                family = binomial)\n",
    "\n",
    "summary(heart_full_log)"
   ]
  },
  {
   "cell_type": "markdown",
   "metadata": {},
   "source": [
    "Table 2: Full logistic regression model summary"
   ]
  },
  {
   "cell_type": "markdown",
   "metadata": {},
   "source": [
    "### 3. Check for Collinarity by using `vif`"
   ]
  },
  {
   "cell_type": "code",
   "execution_count": 9,
   "metadata": {
    "tags": [],
    "vscode": {
     "languageId": "r"
    }
   },
   "outputs": [
    {
     "data": {
      "text/html": [
       "<table class=\"dataframe\">\n",
       "<caption>A data.frame: 13 × 2</caption>\n",
       "<thead>\n",
       "\t<tr><th scope=col>Variable</th><th scope=col>GVIF_Adj</th></tr>\n",
       "\t<tr><th scope=col>&lt;chr&gt;</th><th scope=col>&lt;dbl&gt;</th></tr>\n",
       "</thead>\n",
       "<tbody>\n",
       "\t<tr><td>oldpeak </td><td>1.360</td></tr>\n",
       "\t<tr><td>sex     </td><td>1.357</td></tr>\n",
       "\t<tr><td>age     </td><td>1.297</td></tr>\n",
       "\t<tr><td>trestbps</td><td>1.261</td></tr>\n",
       "\t<tr><td>thalach </td><td>1.220</td></tr>\n",
       "\t<tr><td>slope   </td><td>1.219</td></tr>\n",
       "\t<tr><td>chol    </td><td>1.184</td></tr>\n",
       "\t<tr><td>cp      </td><td>1.173</td></tr>\n",
       "\t<tr><td>ca      </td><td>1.145</td></tr>\n",
       "\t<tr><td>thal    </td><td>1.102</td></tr>\n",
       "\t<tr><td>fbs     </td><td>1.099</td></tr>\n",
       "\t<tr><td>exang   </td><td>1.099</td></tr>\n",
       "\t<tr><td>restecg </td><td>1.055</td></tr>\n",
       "</tbody>\n",
       "</table>\n"
      ],
      "text/latex": [
       "A data.frame: 13 × 2\n",
       "\\begin{tabular}{ll}\n",
       " Variable & GVIF\\_Adj\\\\\n",
       " <chr> & <dbl>\\\\\n",
       "\\hline\n",
       "\t oldpeak  & 1.360\\\\\n",
       "\t sex      & 1.357\\\\\n",
       "\t age      & 1.297\\\\\n",
       "\t trestbps & 1.261\\\\\n",
       "\t thalach  & 1.220\\\\\n",
       "\t slope    & 1.219\\\\\n",
       "\t chol     & 1.184\\\\\n",
       "\t cp       & 1.173\\\\\n",
       "\t ca       & 1.145\\\\\n",
       "\t thal     & 1.102\\\\\n",
       "\t fbs      & 1.099\\\\\n",
       "\t exang    & 1.099\\\\\n",
       "\t restecg  & 1.055\\\\\n",
       "\\end{tabular}\n"
      ],
      "text/markdown": [
       "\n",
       "A data.frame: 13 × 2\n",
       "\n",
       "| Variable &lt;chr&gt; | GVIF_Adj &lt;dbl&gt; |\n",
       "|---|---|\n",
       "| oldpeak  | 1.360 |\n",
       "| sex      | 1.357 |\n",
       "| age      | 1.297 |\n",
       "| trestbps | 1.261 |\n",
       "| thalach  | 1.220 |\n",
       "| slope    | 1.219 |\n",
       "| chol     | 1.184 |\n",
       "| cp       | 1.173 |\n",
       "| ca       | 1.145 |\n",
       "| thal     | 1.102 |\n",
       "| fbs      | 1.099 |\n",
       "| exang    | 1.099 |\n",
       "| restecg  | 1.055 |\n",
       "\n"
      ],
      "text/plain": [
       "   Variable GVIF_Adj\n",
       "1  oldpeak  1.360   \n",
       "2  sex      1.357   \n",
       "3  age      1.297   \n",
       "4  trestbps 1.261   \n",
       "5  thalach  1.220   \n",
       "6  slope    1.219   \n",
       "7  chol     1.184   \n",
       "8  cp       1.173   \n",
       "9  ca       1.145   \n",
       "10 thal     1.102   \n",
       "11 fbs      1.099   \n",
       "12 exang    1.099   \n",
       "13 restecg  1.055   "
      ]
     },
     "metadata": {},
     "output_type": "display_data"
    }
   ],
   "source": [
    "# Main developer: Christin Wang\n",
    "\n",
    "vif_value <- vif(heart_full_log) \n",
    "\n",
    "vif_df <- data.frame(\n",
    "  Variable = c(\"age\", \"sex\", \"cp\", \"trestbps\", \"chol\", \"fbs\", \"restecg\", \"thalach\", \"exang\", \"oldpeak\", \"slope\", \"ca\", \"thal\"),\n",
    "  GVIF_Adj = c(1.297, 1.357, 1.173, 1.261, 1.184, 1.099, 1.055, 1.220, 1.099, 1.360, 1.219, 1.145, 1.102)\n",
    "  ) %>%\n",
    "  arrange(desc(GVIF_Adj))\n",
    "  \n",
    "vif_df"
   ]
  },
  {
   "cell_type": "markdown",
   "metadata": {},
   "source": [
    "Table 3: VIF table of covariates"
   ]
  },
  {
   "cell_type": "markdown",
   "metadata": {},
   "source": [
    "#### VIF interpretation\n",
    "No variable has a `GVIF_Adj` (adjusted GVIF) greater than 5, it generally suggests that multicollinearity is not a severe issue in our model."
   ]
  },
  {
   "cell_type": "markdown",
   "metadata": {},
   "source": [
    "### 4. Forward selection\n",
    "Make a forward selection. Out of the 13 models, select the best one in terms of its goodness of fit (smallest AIC).\n",
    "\n",
    "Then re-fit a logistic regression model with the selected variables"
   ]
  },
  {
   "cell_type": "code",
   "execution_count": 10,
   "metadata": {
    "tags": [],
    "vscode": {
     "languageId": "r"
    }
   },
   "outputs": [
    {
     "name": "stdout",
     "output_type": "stream",
     "text": [
      "Start:  AIC=419.98\n",
      "num ~ 1\n",
      "\n",
      "           Df Deviance    AIC\n",
      "+ thal      3   330.60 338.60\n",
      "+ cp        3   331.86 339.86\n",
      "+ ca        4   341.72 351.72\n",
      "+ oldpeak   1   357.20 361.20\n",
      "+ exang     1   359.54 363.54\n",
      "+ thalach   1   360.90 364.90\n",
      "+ slope     2   370.76 376.76\n",
      "+ sex       1   393.93 397.93\n",
      "+ age       1   402.54 406.54\n",
      "+ restecg   2   407.84 413.84\n",
      "+ trestbps  1   411.03 415.03\n",
      "+ chol      1   415.78 419.78\n",
      "<none>          417.98 419.98\n",
      "+ fbs       1   417.79 421.79\n",
      "\n",
      "Step:  AIC=338.6\n",
      "num ~ thal\n",
      "\n",
      "           Df Deviance    AIC\n",
      "+ ca        4   274.50 290.50\n",
      "+ cp        3   279.14 293.14\n",
      "+ thalach   1   297.00 307.00\n",
      "+ oldpeak   1   300.05 310.05\n",
      "+ exang     1   300.20 310.20\n",
      "+ slope     2   307.31 319.31\n",
      "+ age       1   320.14 330.14\n",
      "+ restecg   2   318.53 330.53\n",
      "+ sex       1   327.67 337.67\n",
      "+ chol      1   327.79 337.79\n",
      "+ trestbps  1   327.83 337.83\n",
      "<none>          330.60 338.60\n",
      "+ fbs       1   330.51 340.51\n",
      "\n",
      "Step:  AIC=290.5\n",
      "num ~ thal + ca\n",
      "\n",
      "           Df Deviance    AIC\n",
      "+ cp        3   232.93 254.93\n",
      "+ exang     1   248.11 266.11\n",
      "+ slope     2   250.68 270.68\n",
      "+ oldpeak   1   253.07 271.07\n",
      "+ thalach   1   253.45 271.45\n",
      "+ restecg   2   265.44 285.44\n",
      "+ sex       1   270.56 288.56\n",
      "+ trestbps  1   271.94 289.94\n",
      "<none>          274.50 290.50\n",
      "+ fbs       1   273.06 291.06\n",
      "+ chol      1   273.75 291.75\n",
      "+ age       1   274.33 292.33\n",
      "\n",
      "Step:  AIC=254.93\n",
      "num ~ thal + ca + cp\n",
      "\n",
      "           Df Deviance    AIC\n",
      "+ oldpeak   1   215.95 239.95\n",
      "+ slope     2   214.63 240.63\n",
      "+ thalach   1   224.88 248.88\n",
      "+ exang     1   225.11 249.11\n",
      "+ trestbps  1   228.49 252.49\n",
      "+ sex       1   228.96 252.96\n",
      "+ restecg   2   227.06 253.06\n",
      "<none>          232.93 254.93\n",
      "+ chol      1   231.86 255.86\n",
      "+ age       1   232.62 256.62\n",
      "+ fbs       1   232.88 256.88\n",
      "\n",
      "Step:  AIC=239.95\n",
      "num ~ thal + ca + cp + oldpeak\n",
      "\n",
      "           Df Deviance    AIC\n",
      "+ slope     2   207.13 235.13\n",
      "+ exang     1   211.49 237.49\n",
      "+ sex       1   212.28 238.28\n",
      "+ thalach   1   212.36 238.36\n",
      "+ trestbps  1   212.45 238.45\n",
      "+ restecg   2   211.45 239.45\n",
      "<none>          215.95 239.95\n",
      "+ chol      1   215.29 241.29\n",
      "+ age       1   215.78 241.78\n",
      "+ fbs       1   215.94 241.94\n",
      "\n",
      "Step:  AIC=235.13\n",
      "num ~ thal + ca + cp + oldpeak + slope\n",
      "\n",
      "           Df Deviance    AIC\n",
      "+ sex       1   200.29 230.29\n",
      "+ trestbps  1   203.19 233.19\n",
      "+ exang     1   203.82 233.82\n",
      "<none>          207.13 235.13\n",
      "+ restecg   2   203.65 235.65\n",
      "+ thalach   1   205.95 235.95\n",
      "+ chol      1   206.77 236.77\n",
      "+ fbs       1   207.11 237.11\n",
      "+ age       1   207.12 237.12\n",
      "\n",
      "Step:  AIC=230.29\n",
      "num ~ thal + ca + cp + oldpeak + slope + sex\n",
      "\n",
      "           Df Deviance    AIC\n",
      "+ trestbps  1   194.44 226.44\n",
      "+ exang     1   196.62 228.62\n",
      "+ thalach   1   198.23 230.23\n",
      "<none>          200.29 230.29\n",
      "+ chol      1   198.68 230.68\n",
      "+ restecg   2   196.82 230.82\n",
      "+ age       1   200.14 232.14\n",
      "+ fbs       1   200.24 232.24\n",
      "\n",
      "Step:  AIC=226.44\n",
      "num ~ thal + ca + cp + oldpeak + slope + sex + trestbps\n",
      "\n",
      "          Df Deviance    AIC\n",
      "+ exang    1   191.26 225.26\n",
      "+ thalach  1   191.84 225.84\n",
      "<none>         194.44 226.44\n",
      "+ chol     1   193.31 227.31\n",
      "+ fbs      1   194.06 228.06\n",
      "+ restecg  2   192.15 228.15\n",
      "+ age      1   194.39 228.39\n",
      "\n",
      "Step:  AIC=225.27\n",
      "num ~ thal + ca + cp + oldpeak + slope + sex + trestbps + exang\n",
      "\n",
      "          Df Deviance    AIC\n",
      "<none>         191.26 225.26\n",
      "+ thalach  1   189.41 225.41\n",
      "+ chol     1   190.17 226.17\n",
      "+ fbs      1   190.68 226.68\n",
      "+ restecg  2   189.08 227.08\n",
      "+ age      1   191.21 227.21\n"
     ]
    },
    {
     "data": {
      "text/plain": [
       "\n",
       "Call:\n",
       "glm(formula = num ~ thal + ca + cp + oldpeak + slope + sex + \n",
       "    trestbps + exang, family = binomial, data = heart_data)\n",
       "\n",
       "Coefficients:\n",
       "            Estimate Std. Error z value Pr(>|z|)    \n",
       "(Intercept) -7.78439    4.46368  -1.744  0.08117 .  \n",
       "thal3.0     -2.24995    3.70784  -0.607  0.54398    \n",
       "thal6.0     -2.47520    3.77569  -0.656  0.51211    \n",
       "thal7.0     -0.83940    3.71096  -0.226  0.82105    \n",
       "ca0.0        1.12685    1.63454   0.689  0.49057    \n",
       "ca1.0        3.40654    1.69270   2.012  0.04417 *  \n",
       "ca2.0        4.07792    1.81968   2.241  0.02503 *  \n",
       "ca3.0        3.34023    1.84440   1.811  0.07014 .  \n",
       "cp2          1.41765    0.79381   1.786  0.07412 .  \n",
       "cp3          0.32082    0.68953   0.465  0.64173    \n",
       "cp4          2.57209    0.69400   3.706  0.00021 ***\n",
       "oldpeak      0.46158    0.22843   2.021  0.04332 *  \n",
       "slope2       1.49041    0.46137   3.230  0.00124 ** \n",
       "slope3       0.64413    0.89013   0.724  0.46929    \n",
       "sex1         1.47598    0.50889   2.900  0.00373 ** \n",
       "trestbps     0.02431    0.01081   2.250  0.02447 *  \n",
       "exang1       0.77035    0.43068   1.789  0.07367 .  \n",
       "---\n",
       "Signif. codes:  0 '***' 0.001 '**' 0.01 '*' 0.05 '.' 0.1 ' ' 1\n",
       "\n",
       "(Dispersion parameter for binomial family taken to be 1)\n",
       "\n",
       "    Null deviance: 417.98  on 302  degrees of freedom\n",
       "Residual deviance: 191.27  on 286  degrees of freedom\n",
       "AIC: 225.27\n",
       "\n",
       "Number of Fisher Scoring iterations: 6\n"
      ]
     },
     "metadata": {},
     "output_type": "display_data"
    }
   ],
   "source": [
    "# Main developer: Christin Wang\n",
    "\n",
    "null_model <- glm(num ~ 1, data = heart_data, family = binomial)\n",
    "\n",
    "forward_sel <- stepAIC(null_model, direction = \"forward\", \n",
    "                         scope = list(lower = null_model, upper = heart_full_log))\n",
    "\n",
    "summary(forward_sel)"
   ]
  },
  {
   "cell_type": "markdown",
   "metadata": {},
   "source": [
    "Table 4,5 : Forward selection result summary"
   ]
  },
  {
   "cell_type": "markdown",
   "metadata": {},
   "source": [
    "We observe that this model contains too many high p-values, which cannot be rejected using a significance level of 5%. Therefore, we aim to find a more refined model."
   ]
  },
  {
   "cell_type": "markdown",
   "metadata": {},
   "source": [
    "### 5. Find more reduced model\n",
    "We apply two methods to identify a more reduced model:\n",
    "#### 5.1. Remove insignificant terms \n",
    "We remove terms with p-values higher than 5%. (However, given the presence of many dummy variables, we cannot remove every insignificant term.)"
   ]
  },
  {
   "cell_type": "code",
   "execution_count": 12,
   "metadata": {
    "vscode": {
     "languageId": "r"
    }
   },
   "outputs": [
    {
     "data": {
      "text/html": [
       "<style>\n",
       ".list-inline {list-style: none; margin:0; padding: 0}\n",
       ".list-inline>li {display: inline-block}\n",
       ".list-inline>li:not(:last-child)::after {content: \"\\00b7\"; padding: 0 .5ex}\n",
       "</style>\n",
       "<ol class=list-inline><li>'ca1.0'</li><li>'ca2.0'</li><li>'cp4'</li><li>'oldpeak'</li><li>'slope2'</li><li>'sex1'</li><li>'trestbps'</li></ol>\n"
      ],
      "text/latex": [
       "\\begin{enumerate*}\n",
       "\\item 'ca1.0'\n",
       "\\item 'ca2.0'\n",
       "\\item 'cp4'\n",
       "\\item 'oldpeak'\n",
       "\\item 'slope2'\n",
       "\\item 'sex1'\n",
       "\\item 'trestbps'\n",
       "\\end{enumerate*}\n"
      ],
      "text/markdown": [
       "1. 'ca1.0'\n",
       "2. 'ca2.0'\n",
       "3. 'cp4'\n",
       "4. 'oldpeak'\n",
       "5. 'slope2'\n",
       "6. 'sex1'\n",
       "7. 'trestbps'\n",
       "\n",
       "\n"
      ],
      "text/plain": [
       "[1] \"ca1.0\"    \"ca2.0\"    \"cp4\"      \"oldpeak\"  \"slope2\"   \"sex1\"     \"trestbps\""
      ]
     },
     "metadata": {},
     "output_type": "display_data"
    }
   ],
   "source": [
    "# Main developer: Christin Wang\n",
    "significant_vars <- forward_tidy %>%\n",
    "    filter(p.value < 0.05) %>%\n",
    "    pull(term) \n",
    "significant_vars"
   ]
  },
  {
   "cell_type": "code",
   "execution_count": 34,
   "metadata": {
    "vscode": {
     "languageId": "r"
    }
   },
   "outputs": [
    {
     "data": {
      "text/plain": [
       "\n",
       "Call:\n",
       "glm(formula = num ~ ca + cp + oldpeak + slope + sex + trestbps, \n",
       "    family = \"binomial\", data = heart_train)\n",
       "\n",
       "Coefficients:\n",
       "            Estimate Std. Error z value Pr(>|z|)    \n",
       "(Intercept) -9.66874    2.69926  -3.582 0.000341 ***\n",
       "ca0.0        0.09569    1.56735   0.061 0.951318    \n",
       "ca1.0        2.29398    1.61161   1.423 0.154620    \n",
       "ca2.0        2.05407    1.75977   1.167 0.243114    \n",
       "ca3.0        3.01492    1.98999   1.515 0.129760    \n",
       "cp2          1.50526    0.97983   1.536 0.124478    \n",
       "cp3          0.69650    0.83514   0.834 0.404288    \n",
       "cp4          3.30644    0.83473   3.961 7.46e-05 ***\n",
       "oldpeak      0.72511    0.26516   2.735 0.006246 ** \n",
       "slope2       1.43066    0.51344   2.786 0.005329 ** \n",
       "slope3       0.16277    1.01667   0.160 0.872803    \n",
       "sex1         1.84231    0.52573   3.504 0.000458 ***\n",
       "trestbps     0.02886    0.01272   2.269 0.023283 *  \n",
       "---\n",
       "Signif. codes:  0 '***' 0.001 '**' 0.01 '*' 0.05 '.' 0.1 ' ' 1\n",
       "\n",
       "(Dispersion parameter for binomial family taken to be 1)\n",
       "\n",
       "    Null deviance: 291.14  on 210  degrees of freedom\n",
       "Residual deviance: 148.89  on 198  degrees of freedom\n",
       "AIC: 174.89\n",
       "\n",
       "Number of Fisher Scoring iterations: 6\n"
      ]
     },
     "metadata": {},
     "output_type": "display_data"
    }
   ],
   "source": [
    "# Main developer: Christin Wang\n",
    "more_red_log <- glm(\n",
    "    formula = num ~ ca + cp + oldpeak + slope + sex + trestbps,\n",
    "    data = heart_train,\n",
    "    family = \"binomial\"\n",
    ")\n",
    "\n",
    "summary(more_red_log)"
   ]
  },
  {
   "cell_type": "markdown",
   "metadata": {},
   "source": [
    "Table 6: More reduced logistic regression model summary"
   ]
  },
  {
   "cell_type": "markdown",
   "metadata": {},
   "source": [
    "#### 5.2. Lasso Regularization"
   ]
  },
  {
   "cell_type": "code",
   "execution_count": 14,
   "metadata": {
    "vscode": {
     "languageId": "r"
    }
   },
   "outputs": [
    {
     "data": {
      "text/plain": [
       "23 x 1 sparse Matrix of class \"dgCMatrix\"\n",
       "                      s0\n",
       "(Intercept)  0.331078327\n",
       "age          .          \n",
       "sex1         .          \n",
       "cp2          .          \n",
       "cp3          .          \n",
       "cp4          0.733683966\n",
       "trestbps     .          \n",
       "chol         .          \n",
       "fbs1         .          \n",
       "restecg1     .          \n",
       "restecg2     .          \n",
       "thalach     -0.001356041\n",
       "exang1       0.680339970\n",
       "oldpeak      0.196744317\n",
       "slope2       .          \n",
       "slope3       .          \n",
       "ca0.0       -0.783249671\n",
       "ca1.0        .          \n",
       "ca2.0        .          \n",
       "ca3.0        .          \n",
       "thal3.0     -1.087803698\n",
       "thal6.0      .          \n",
       "thal7.0      .          "
      ]
     },
     "metadata": {},
     "output_type": "display_data"
    }
   ],
   "source": [
    "# Main developer: Christin Wang\n",
    "matrix_X_train <- \n",
    "    model.matrix(object = num ~., \n",
    "                data = heart_train) [, -1]\n",
    "\n",
    "matrix_Y_train <- heart_train$num\n",
    "\n",
    "cv_lambda_lasso <- \n",
    "   cv.glmnet(\n",
    "        x = matrix_X_train, \n",
    "        y = matrix_Y_train,\n",
    "        alpha = 1,\n",
    "        family = \"binomial\",\n",
    "        type.measure = \"auc\",\n",
    "        nfolds = 10)\n",
    "        \n",
    "LASSO <- \n",
    "   glmnet(\n",
    "   x = matrix_X_train, \n",
    "   y = matrix_Y_train,\n",
    "   alpha = 1,\n",
    "   family = \"binomial\",\n",
    "   lambda = cv_lambda_lasso$lambda.min\n",
    " )\n",
    " coef(LASSO)"
   ]
  },
  {
   "cell_type": "markdown",
   "metadata": {},
   "source": [
    "Table 7: Lasso coefficient with minimum lambda"
   ]
  },
  {
   "cell_type": "code",
   "execution_count": 15,
   "metadata": {
    "vscode": {
     "languageId": "r"
    }
   },
   "outputs": [
    {
     "data": {
      "text/plain": [
       "\n",
       "Call:\n",
       "glm(formula = num ~ ., family = \"binomial\", data = selected_data)\n",
       "\n",
       "Coefficients:\n",
       "              Estimate Std. Error z value Pr(>|z|)    \n",
       "(Intercept)  5.207e+00  1.455e+03   0.004 0.997145    \n",
       "age         -4.428e-03  3.034e-02  -0.146 0.883948    \n",
       "sex1         1.382e+00  6.715e-01   2.058 0.039637 *  \n",
       "cp2          2.087e+00  1.073e+00   1.946 0.051637 .  \n",
       "cp3          1.075e+00  8.905e-01   1.208 0.227196    \n",
       "cp4          3.055e+00  9.275e-01   3.294 0.000989 ***\n",
       "trestbps     2.830e-02  1.518e-02   1.864 0.062334 .  \n",
       "chol         1.135e-03  4.834e-03   0.235 0.814393    \n",
       "restecg1     7.282e-01  3.174e+00   0.229 0.818517    \n",
       "restecg2     9.619e-01  5.012e-01   1.919 0.054958 .  \n",
       "thalach     -9.705e-03  1.529e-02  -0.635 0.525527    \n",
       "exang1       1.262e+00  5.618e-01   2.246 0.024677 *  \n",
       "oldpeak      7.226e-01  3.168e-01   2.281 0.022573 *  \n",
       "slope2       7.451e-01  6.134e-01   1.215 0.224500    \n",
       "slope3      -2.960e-01  1.205e+00  -0.246 0.805896    \n",
       "ca0.0        1.084e+00  2.020e+00   0.536 0.591706    \n",
       "ca1.0        3.224e+00  2.090e+00   1.542 0.122962    \n",
       "ca2.0        3.536e+00  2.310e+00   1.531 0.125787    \n",
       "ca3.0        3.816e+00  2.413e+00   1.581 0.113792    \n",
       "thal3.0     -1.521e+01  1.455e+03  -0.010 0.991662    \n",
       "thal6.0     -1.462e+01  1.455e+03  -0.010 0.991987    \n",
       "thal7.0     -1.350e+01  1.455e+03  -0.009 0.992598    \n",
       "---\n",
       "Signif. codes:  0 '***' 0.001 '**' 0.01 '*' 0.05 '.' 0.1 ' ' 1\n",
       "\n",
       "(Dispersion parameter for binomial family taken to be 1)\n",
       "\n",
       "    Null deviance: 291.14  on 210  degrees of freedom\n",
       "Residual deviance: 124.43  on 189  degrees of freedom\n",
       "AIC: 168.43\n",
       "\n",
       "Number of Fisher Scoring iterations: 14\n"
      ]
     },
     "metadata": {},
     "output_type": "display_data"
    }
   ],
   "source": [
    "# Main developer: Christin Wang\n",
    "selected_data <- heart_train %>%\n",
    "select(age, sex, cp, trestbps, chol, restecg, thalach, exang, oldpeak, slope, ca, thal, num) \n",
    "\n",
    "matrix_X_selected <- model.matrix(num ~ ., data = selected_data)[, -1]\n",
    "matrix_Y_selected <- selected_data$num\n",
    "\n",
    "lasso_model <- glm(\n",
    "  formula = num ~ ., \n",
    "  data = selected_data, \n",
    "  family = \"binomial\"\n",
    ")\n",
    "\n",
    "summary(lasso_model)"
   ]
  },
  {
   "cell_type": "markdown",
   "metadata": {},
   "source": [
    "Table 8: Lasso model summary"
   ]
  },
  {
   "cell_type": "markdown",
   "metadata": {},
   "source": [
    "### 6. Model Evaluation"
   ]
  },
  {
   "cell_type": "markdown",
   "metadata": {},
   "source": [
    "Now, we can test the performance of our new logistic regression model on test set by using Confusion matrix and ROC graphs"
   ]
  },
  {
   "cell_type": "code",
   "execution_count": 18,
   "metadata": {
    "tags": [],
    "vscode": {
     "languageId": "r"
    }
   },
   "outputs": [
    {
     "data": {
      "text/html": [
       "<style>\n",
       ".dl-inline {width: auto; margin:0; padding: 0}\n",
       ".dl-inline>dt, .dl-inline>dd {float: none; width: auto; display: inline-block}\n",
       ".dl-inline>dt::after {content: \":\\0020\"; padding-right: .5ex}\n",
       ".dl-inline>dt:not(:first-of-type) {padding-left: .5ex}\n",
       "</style><dl class=dl-inline><dt>1</dt><dd>0</dd><dt>2</dt><dd>1</dd><dt>3</dt><dd>0</dd><dt>4</dt><dd>1</dd><dt>5</dt><dd>1</dd><dt>6</dt><dd>0</dd><dt>7</dt><dd>0</dd><dt>8</dt><dd>0</dd><dt>9</dt><dd>0</dd><dt>10</dt><dd>0</dd></dl>\n"
      ],
      "text/latex": [
       "\\begin{description*}\n",
       "\\item[1] 0\n",
       "\\item[2] 1\n",
       "\\item[3] 0\n",
       "\\item[4] 1\n",
       "\\item[5] 1\n",
       "\\item[6] 0\n",
       "\\item[7] 0\n",
       "\\item[8] 0\n",
       "\\item[9] 0\n",
       "\\item[10] 0\n",
       "\\end{description*}\n"
      ],
      "text/markdown": [
       "1\n",
       ":   02\n",
       ":   13\n",
       ":   04\n",
       ":   15\n",
       ":   16\n",
       ":   07\n",
       ":   08\n",
       ":   09\n",
       ":   010\n",
       ":   0\n",
       "\n"
      ],
      "text/plain": [
       " 1  2  3  4  5  6  7  8  9 10 \n",
       " 0  1  0  1  1  0  0  0  0  0 "
      ]
     },
     "metadata": {},
     "output_type": "display_data"
    }
   ],
   "source": [
    "# Main developer: Rongze Wang\n",
    "heart_full_log_testing <- glm(num ~ .,\n",
    "                data = heart_test,\n",
    "                family = binomial)\n",
    "heart_pred_class <- \n",
    "        round(predict(heart_full_log_testing,type=\"response\"),0)\n",
    "head(heart_pred_class, 10)"
   ]
  },
  {
   "cell_type": "code",
   "execution_count": 19,
   "metadata": {
    "tags": [],
    "vscode": {
     "languageId": "r"
    }
   },
   "outputs": [
    {
     "data": {
      "text/plain": [
       "Confusion Matrix and Statistics\n",
       "\n",
       "          Reference\n",
       "Prediction  0  1\n",
       "         0 48  4\n",
       "         1  2 38\n",
       "                                          \n",
       "               Accuracy : 0.9348          \n",
       "                 95% CI : (0.8634, 0.9757)\n",
       "    No Information Rate : 0.5435          \n",
       "    P-Value [Acc > NIR] : <2e-16          \n",
       "                                          \n",
       "                  Kappa : 0.8681          \n",
       "                                          \n",
       " Mcnemar's Test P-Value : 0.6831          \n",
       "                                          \n",
       "            Sensitivity : 0.9048          \n",
       "            Specificity : 0.9600          \n",
       "         Pos Pred Value : 0.9500          \n",
       "         Neg Pred Value : 0.9231          \n",
       "             Prevalence : 0.4565          \n",
       "         Detection Rate : 0.4130          \n",
       "   Detection Prevalence : 0.4348          \n",
       "      Balanced Accuracy : 0.9324          \n",
       "                                          \n",
       "       'Positive' Class : 1               \n",
       "                                          "
      ]
     },
     "metadata": {},
     "output_type": "display_data"
    }
   ],
   "source": [
    "# Main developer: Rongze Wang\n",
    "heart_confusion_matrix <- \n",
    "    confusionMatrix(\n",
    "    data = as.factor(heart_pred_class),\n",
    "    reference = as.factor(heart_test$num),\n",
    "    positive = '1'\n",
    ")\n",
    "heart_confusion_matrix"
   ]
  },
  {
   "cell_type": "markdown",
   "metadata": {},
   "source": [
    "Table 9: Full model confusion matrix"
   ]
  },
  {
   "cell_type": "code",
   "execution_count": 20,
   "metadata": {
    "tags": [],
    "vscode": {
     "languageId": "r"
    }
   },
   "outputs": [
    {
     "data": {
      "text/html": [
       "<style>\n",
       ".dl-inline {width: auto; margin:0; padding: 0}\n",
       ".dl-inline>dt, .dl-inline>dd {float: none; width: auto; display: inline-block}\n",
       ".dl-inline>dt::after {content: \":\\0020\"; padding-right: .5ex}\n",
       ".dl-inline>dt:not(:first-of-type) {padding-left: .5ex}\n",
       "</style><dl class=dl-inline><dt>1</dt><dd>0</dd><dt>2</dt><dd>1</dd><dt>3</dt><dd>0</dd><dt>4</dt><dd>1</dd><dt>5</dt><dd>1</dd><dt>6</dt><dd>0</dd><dt>7</dt><dd>0</dd><dt>8</dt><dd>0</dd><dt>9</dt><dd>0</dd><dt>10</dt><dd>0</dd></dl>\n"
      ],
      "text/latex": [
       "\\begin{description*}\n",
       "\\item[1] 0\n",
       "\\item[2] 1\n",
       "\\item[3] 0\n",
       "\\item[4] 1\n",
       "\\item[5] 1\n",
       "\\item[6] 0\n",
       "\\item[7] 0\n",
       "\\item[8] 0\n",
       "\\item[9] 0\n",
       "\\item[10] 0\n",
       "\\end{description*}\n"
      ],
      "text/markdown": [
       "1\n",
       ":   02\n",
       ":   13\n",
       ":   04\n",
       ":   15\n",
       ":   16\n",
       ":   07\n",
       ":   08\n",
       ":   09\n",
       ":   010\n",
       ":   0\n",
       "\n"
      ],
      "text/plain": [
       " 1  2  3  4  5  6  7  8  9 10 \n",
       " 0  1  0  1  1  0  0  0  0  0 "
      ]
     },
     "metadata": {},
     "output_type": "display_data"
    }
   ],
   "source": [
    "# Main developer: Rongze Wang\n",
    "heart_new_pred_class <- \n",
    "        round(predict(forward_sel,type=\"response\", newdata=heart_test),0)\n",
    "head(heart_new_pred_class, 10)"
   ]
  },
  {
   "cell_type": "code",
   "execution_count": 21,
   "metadata": {
    "tags": [],
    "vscode": {
     "languageId": "r"
    }
   },
   "outputs": [
    {
     "data": {
      "text/plain": [
       "Confusion Matrix and Statistics\n",
       "\n",
       "          Reference\n",
       "Prediction  0  1\n",
       "         0 46  6\n",
       "         1  4 36\n",
       "                                          \n",
       "               Accuracy : 0.8913          \n",
       "                 95% CI : (0.8092, 0.9466)\n",
       "    No Information Rate : 0.5435          \n",
       "    P-Value [Acc > NIR] : 6.36e-13        \n",
       "                                          \n",
       "                  Kappa : 0.7801          \n",
       "                                          \n",
       " Mcnemar's Test P-Value : 0.7518          \n",
       "                                          \n",
       "            Sensitivity : 0.8571          \n",
       "            Specificity : 0.9200          \n",
       "         Pos Pred Value : 0.9000          \n",
       "         Neg Pred Value : 0.8846          \n",
       "             Prevalence : 0.4565          \n",
       "         Detection Rate : 0.3913          \n",
       "   Detection Prevalence : 0.4348          \n",
       "      Balanced Accuracy : 0.8886          \n",
       "                                          \n",
       "       'Positive' Class : 1               \n",
       "                                          "
      ]
     },
     "metadata": {},
     "output_type": "display_data"
    }
   ],
   "source": [
    "# Main developer: Rongze Wang\n",
    "heart_confusion_matrix <- \n",
    "    confusionMatrix(\n",
    "    data = as.factor(heart_new_pred_class),\n",
    "    reference = as.factor(heart_test$num),\n",
    "    positive = '1'\n",
    ")\n",
    "heart_confusion_matrix"
   ]
  },
  {
   "cell_type": "markdown",
   "metadata": {},
   "source": [
    "Table 10: Reduced model confusion matrix"
   ]
  },
  {
   "cell_type": "code",
   "execution_count": 43,
   "metadata": {
    "tags": [],
    "vscode": {
     "languageId": "r"
    }
   },
   "outputs": [
    {
     "name": "stderr",
     "output_type": "stream",
     "text": [
      "Setting levels: control = 0, case = 1\n",
      "\n",
      "Setting direction: controls < cases\n",
      "\n",
      "Setting levels: control = 0, case = 1\n",
      "\n",
      "Setting direction: controls < cases\n",
      "\n",
      "Setting levels: control = 0, case = 1\n",
      "\n",
      "Setting direction: controls < cases\n",
      "\n",
      "Setting levels: control = 0, case = 1\n",
      "\n",
      "Setting direction: controls < cases\n",
      "\n"
     ]
    },
    {
     "data": {
      "image/png": "[encoded data removed]",
      "text/plain": [
       "Plot with title \"ROC Curves for Heart Disease Dataset\""
      ]
     },
     "metadata": {
      "image/png": {
       "height": 600,
       "width": 600
      }
     },
     "output_type": "display_data"
    }
   ],
   "source": [
    "# Main developer: Rongze Wang\n",
    "\n",
    "options(repr.plot.width = 10, repr.plot.height = 10)\n",
    "\n",
    "ROC_full_log_testing <- roc(\n",
    "  response = heart_test$num,\n",
    "  predictor = predict(heart_full_log_testing,type='response')\n",
    ")\n",
    "\n",
    "ROC_red_log <- roc(\n",
    "  response = heart_test$num,\n",
    "  predictor = predict(forward_sel,type='response',newdata=heart_test)\n",
    ")\n",
    "\n",
    "ROC_more_red_log <- roc(\n",
    "  response = heart_test$num,\n",
    "  predictor = predict(more_red_log,type='response',newdata=heart_test)\n",
    ")\n",
    "\n",
    "ROC_lasso <- roc(\n",
    "  response = heart_test$num,\n",
    "  predictor = predict(lasso_model,type='response',newdata=heart_test)\n",
    ")\n",
    "\n",
    "plot(ROC_full_log_testing,\n",
    "  print.auc = TRUE, col = \"blue\", lwd = 3, lty = 2,\n",
    "  main = \"ROC Curves for Heart Disease Dataset\"\n",
    ")\n",
    "lines.roc(ROC_red_log,print.auc = TRUE, col = \"red\", lwd = 3, lty = 2)\n",
    "lines.roc(ROC_more_red_log,print.auc = TRUE, col = \"green\", lwd = 3, lty = 2)\n",
    "lines.roc(ROC_lasso,print.auc = TRUE, col = \"orange\", lwd = 3, lty = 2)"
   ]
  },
  {
   "cell_type": "markdown",
   "metadata": {},
   "source": [
    "Figure 4: ROC curve for full, reduced, more reduced and lasso model"
   ]
  },
  {
   "cell_type": "markdown",
   "metadata": {},
   "source": [
    "#### ROC curve interpretation\n",
    "From the ROC curves above, the blue dot line represents the `heart_full_log`, the red dot line represents the `forward_sel`, the green line represents the `more_red_log`, and the orange line represents the `lasso_model`. We could see that the full logistic model has the largest AUC value which means that it performs the best fitting to the data. Meanwhile, the reduced model after forward selection has a lower AUC value than the full logistic model, and once we eliminate more insignificant variables, the value of AUC drops further. Besides, the lasso model also has a very low AUC value."
   ]
  },
  {
   "cell_type": "markdown",
   "metadata": {},
   "source": [
    "### 7. Interpretation"
   ]
  },
  {
   "cell_type": "code",
   "execution_count": 40,
   "metadata": {
    "vscode": {
     "languageId": "r"
    }
   },
   "outputs": [
    {
     "data": {
      "text/html": [
       "<table class=\"dataframe\">\n",
       "<caption>A tibble: 13 × 7</caption>\n",
       "<thead>\n",
       "\t<tr><th scope=col>term</th><th scope=col>estimate</th><th scope=col>std.error</th><th scope=col>statistic</th><th scope=col>p.value</th><th scope=col>conf.low</th><th scope=col>conf.high</th></tr>\n",
       "\t<tr><th scope=col>&lt;chr&gt;</th><th scope=col>&lt;dbl&gt;</th><th scope=col>&lt;dbl&gt;</th><th scope=col>&lt;dbl&gt;</th><th scope=col>&lt;dbl&gt;</th><th scope=col>&lt;dbl&gt;</th><th scope=col>&lt;dbl&gt;</th></tr>\n",
       "</thead>\n",
       "<tbody>\n",
       "\t<tr><td>(Intercept)</td><td>-9.67</td><td>2.70</td><td>-3.58</td><td>0.00</td><td>-15.30</td><td>-4.61</td></tr>\n",
       "\t<tr><td>ca0.0      </td><td> 0.10</td><td>1.57</td><td> 0.06</td><td>0.95</td><td> -2.94</td><td> 3.56</td></tr>\n",
       "\t<tr><td>ca1.0      </td><td> 2.29</td><td>1.61</td><td> 1.42</td><td>0.15</td><td> -0.79</td><td> 5.84</td></tr>\n",
       "\t<tr><td>ca2.0      </td><td> 2.05</td><td>1.76</td><td> 1.17</td><td>0.24</td><td> -1.32</td><td> 5.83</td></tr>\n",
       "\t<tr><td>ca3.0      </td><td> 3.01</td><td>1.99</td><td> 1.52</td><td>0.13</td><td> -0.66</td><td> 7.39</td></tr>\n",
       "\t<tr><td>cp2        </td><td> 1.51</td><td>0.98</td><td> 1.54</td><td>0.12</td><td> -0.39</td><td> 3.50</td></tr>\n",
       "\t<tr><td>cp3        </td><td> 0.70</td><td>0.84</td><td> 0.83</td><td>0.40</td><td> -0.91</td><td> 2.41</td></tr>\n",
       "\t<tr><td>cp4        </td><td> 3.31</td><td>0.83</td><td> 3.96</td><td>0.00</td><td>  1.76</td><td> 5.07</td></tr>\n",
       "\t<tr><td>oldpeak    </td><td> 0.73</td><td>0.27</td><td> 2.73</td><td>0.01</td><td>  0.23</td><td> 1.27</td></tr>\n",
       "\t<tr><td>slope2     </td><td> 1.43</td><td>0.51</td><td> 2.79</td><td>0.01</td><td>  0.45</td><td> 2.48</td></tr>\n",
       "\t<tr><td>slope3     </td><td> 0.16</td><td>1.02</td><td> 0.16</td><td>0.87</td><td> -1.91</td><td> 2.11</td></tr>\n",
       "\t<tr><td>sex1       </td><td> 1.84</td><td>0.53</td><td> 3.50</td><td>0.00</td><td>  0.86</td><td> 2.94</td></tr>\n",
       "\t<tr><td>trestbps   </td><td> 0.03</td><td>0.01</td><td> 2.27</td><td>0.02</td><td>  0.00</td><td> 0.06</td></tr>\n",
       "</tbody>\n",
       "</table>\n"
      ],
      "text/latex": [
       "A tibble: 13 × 7\n",
       "\\begin{tabular}{lllllll}\n",
       " term & estimate & std.error & statistic & p.value & conf.low & conf.high\\\\\n",
       " <chr> & <dbl> & <dbl> & <dbl> & <dbl> & <dbl> & <dbl>\\\\\n",
       "\\hline\n",
       "\t (Intercept) & -9.67 & 2.70 & -3.58 & 0.00 & -15.30 & -4.61\\\\\n",
       "\t ca0.0       &  0.10 & 1.57 &  0.06 & 0.95 &  -2.94 &  3.56\\\\\n",
       "\t ca1.0       &  2.29 & 1.61 &  1.42 & 0.15 &  -0.79 &  5.84\\\\\n",
       "\t ca2.0       &  2.05 & 1.76 &  1.17 & 0.24 &  -1.32 &  5.83\\\\\n",
       "\t ca3.0       &  3.01 & 1.99 &  1.52 & 0.13 &  -0.66 &  7.39\\\\\n",
       "\t cp2         &  1.51 & 0.98 &  1.54 & 0.12 &  -0.39 &  3.50\\\\\n",
       "\t cp3         &  0.70 & 0.84 &  0.83 & 0.40 &  -0.91 &  2.41\\\\\n",
       "\t cp4         &  3.31 & 0.83 &  3.96 & 0.00 &   1.76 &  5.07\\\\\n",
       "\t oldpeak     &  0.73 & 0.27 &  2.73 & 0.01 &   0.23 &  1.27\\\\\n",
       "\t slope2      &  1.43 & 0.51 &  2.79 & 0.01 &   0.45 &  2.48\\\\\n",
       "\t slope3      &  0.16 & 1.02 &  0.16 & 0.87 &  -1.91 &  2.11\\\\\n",
       "\t sex1        &  1.84 & 0.53 &  3.50 & 0.00 &   0.86 &  2.94\\\\\n",
       "\t trestbps    &  0.03 & 0.01 &  2.27 & 0.02 &   0.00 &  0.06\\\\\n",
       "\\end{tabular}\n"
      ],
      "text/markdown": [
       "\n",
       "A tibble: 13 × 7\n",
       "\n",
       "| term &lt;chr&gt; | estimate &lt;dbl&gt; | std.error &lt;dbl&gt; | statistic &lt;dbl&gt; | p.value &lt;dbl&gt; | conf.low &lt;dbl&gt; | conf.high &lt;dbl&gt; |\n",
       "|---|---|---|---|---|---|---|\n",
       "| (Intercept) | -9.67 | 2.70 | -3.58 | 0.00 | -15.30 | -4.61 |\n",
       "| ca0.0       |  0.10 | 1.57 |  0.06 | 0.95 |  -2.94 |  3.56 |\n",
       "| ca1.0       |  2.29 | 1.61 |  1.42 | 0.15 |  -0.79 |  5.84 |\n",
       "| ca2.0       |  2.05 | 1.76 |  1.17 | 0.24 |  -1.32 |  5.83 |\n",
       "| ca3.0       |  3.01 | 1.99 |  1.52 | 0.13 |  -0.66 |  7.39 |\n",
       "| cp2         |  1.51 | 0.98 |  1.54 | 0.12 |  -0.39 |  3.50 |\n",
       "| cp3         |  0.70 | 0.84 |  0.83 | 0.40 |  -0.91 |  2.41 |\n",
       "| cp4         |  3.31 | 0.83 |  3.96 | 0.00 |   1.76 |  5.07 |\n",
       "| oldpeak     |  0.73 | 0.27 |  2.73 | 0.01 |   0.23 |  1.27 |\n",
       "| slope2      |  1.43 | 0.51 |  2.79 | 0.01 |   0.45 |  2.48 |\n",
       "| slope3      |  0.16 | 1.02 |  0.16 | 0.87 |  -1.91 |  2.11 |\n",
       "| sex1        |  1.84 | 0.53 |  3.50 | 0.00 |   0.86 |  2.94 |\n",
       "| trestbps    |  0.03 | 0.01 |  2.27 | 0.02 |   0.00 |  0.06 |\n",
       "\n"
      ],
      "text/plain": [
       "   term        estimate std.error statistic p.value conf.low conf.high\n",
       "1  (Intercept) -9.67    2.70      -3.58     0.00    -15.30   -4.61    \n",
       "2  ca0.0        0.10    1.57       0.06     0.95     -2.94    3.56    \n",
       "3  ca1.0        2.29    1.61       1.42     0.15     -0.79    5.84    \n",
       "4  ca2.0        2.05    1.76       1.17     0.24     -1.32    5.83    \n",
       "5  ca3.0        3.01    1.99       1.52     0.13     -0.66    7.39    \n",
       "6  cp2          1.51    0.98       1.54     0.12     -0.39    3.50    \n",
       "7  cp3          0.70    0.84       0.83     0.40     -0.91    2.41    \n",
       "8  cp4          3.31    0.83       3.96     0.00      1.76    5.07    \n",
       "9  oldpeak      0.73    0.27       2.73     0.01      0.23    1.27    \n",
       "10 slope2       1.43    0.51       2.79     0.01      0.45    2.48    \n",
       "11 slope3       0.16    1.02       0.16     0.87     -1.91    2.11    \n",
       "12 sex1         1.84    0.53       3.50     0.00      0.86    2.94    \n",
       "13 trestbps     0.03    0.01       2.27     0.02      0.00    0.06    "
      ]
     },
     "metadata": {},
     "output_type": "display_data"
    }
   ],
   "source": [
    "# Main developer: Rongze Wang\n",
    "#Contributor: Christin Wang (round numeric)\n",
    "\n",
    "more_reduced_tidy <- more_red_log %>%\n",
    "     tidy(conf.int = 0.95) %>%\n",
    "     mutate_if(is.numeric, round, 2)\n",
    "more_reduced_tidy"
   ]
  },
  {
   "cell_type": "markdown",
   "metadata": {},
   "source": [
    "\n",
    "Even though `more_red_log` the reduced logistic model after forward selection has a low AUC value,  we use it to make inference for our question as it removes some input variables with large p-values. \n",
    "\n",
    "- From the model we selected, the p.value of `sex1`, `trestbps`, and `slope2` are lower than the significant level (5%). Since their p-values are so small, we have enough evidence to reject the null hypothesis and conclude that there are strong association between the response variable `num` and the three input variable `sex1`, `trestbps`, and `slope2`, independently.\n",
    "\n",
    "- The expected odds of `sex1` (1 = male; 0 = female) are 6.19 times higher for patients with heart disease than those without heart disease, and we are 95% confident that the expected odds of `sex1` are between 2.32 and 18.47 times higher for those have heart disease than those do not.\n",
    "\n",
    "- The expected odds of `slope2` (the slope of the peak exercise ST segment is flat) are 4.23 times higher for those have heart disease than those without heart disease, and we are 95% confident that the expected odds of `slope2` are between 1.57 and 12.20 times higher for those have heart disease than those do not.\n",
    "\n",
    "- The expected odds of `trestbps` (resting blood pressure in mm Hg) are 1.04 times higher for the patients with heart disease than those without disease, and we are 95% confident that the expected odds of `trestbps` are between 1.01 and 1.07 times higher for those have heart disease than those do not."
   ]
  },
  {
   "cell_type": "markdown",
   "metadata": {},
   "source": [
    "## III. Discussion"
   ]
  },
  {
   "cell_type": "markdown",
   "metadata": {},
   "source": [
    "- Summarize findings:\n",
    "\n",
    "    - We found that even though the full model and the forward selection reduced model have a higher AUC, they contained many terms with high p-values (significance level 5%). Besides, the LASSO model, while having the lowest AUC, also included the most insignificant terms.\n",
    "\n",
    "    -  Among the predictors, asymptomatic chest pain (`cp4`), ST depression induced by exercise relative to rest (`oldpeak`), flat exercise ST segment (`slope2`), `sex`, and blood pressure (`trestbps`) were found to be statistically significant in relation to heart disease diagnosis. These findings have the potential to assist doctors in more accurately identifying patients at risk for heart disease.\n",
    "\n",
    "- Exepected results:\n",
    "\n",
    "    - Originally, we expected the forward selection model to include the variables we’re interested in, which are `sex`, `age`, blood pressure (`trestbps`), cholesterol level (`chol`) and blood sugar (`fbs`). However, only `sex` and `trestbps` was chosen. Given the high p-values in the forward selection model, we tried to find a model with more significant terms and turned to LASSO. Whereas, LASSO did not include `fbs` and also had few significant terms. Finally, we settled on the more reduced model (derived from the forward selection model), which contained only `sex` and `trestbps` from the variables we were particularly interested in.\n"
   ]
  },
  {
   "cell_type": "markdown",
   "metadata": {},
   "source": [
    "## IV. References (APA)"
   ]
  },
  {
   "cell_type": "markdown",
   "metadata": {},
   "source": [
    "- Lloyd-Jones, D. M., Larson, M. G., Beiser, A., & Levy, D. (1999). Lifetime risk of developing coronary heart disease. The Lancet, 353(9147), 89-92. https://doi.org/10.1016/S0140-6736(98)10279-9\n",
    "\n",
    "- Inouye, M., Abraham, G., Nelson, C. P., Wood, A. M., Sweeting, M. J., Dudbridge, F., Lai, F. Y., Kaptoge, S., Brozynska, M., Wang, T., Ye, S., Webb, T. R., Rutter, M. K., Tzoulaki, I., Patel, R. S., Loos, R. J. F., Keavney, B., Hemingway, H., Thompson, J., etc. UK Biobank CardioMetabolic Consortium CHD Working Group. (2018). Genomic risk prediction of coronary artery disease in 480,000 adults: Implications for primary prevention. Journal of the American College of Cardiology, 72(16), 1883-1893. https://doi.org/10.1016/j.jacc.2018.07.079\n",
    "\n",
    "- Janosi,Andras, Steinbrunn,William, Pfisterer,Matthias, and Detrano,Robert. (1988). Heart Disease. UCI Machine Learning Repository. https://doi.org/10.24432/C52P4X.\n",
    "\n"
   ]
  },
  {
   "cell_type": "markdown",
   "metadata": {},
   "source": []
  }
 ],
 "metadata": {
  "kernelspec": {
   "display_name": "R",
   "language": "R",
   "name": "ir"
  },
  "language_info": {
   "codemirror_mode": "r",
   "file_extension": ".r",
   "mimetype": "text/x-r-source",
   "name": "R",
   "pygments_lexer": "r",
   "version": "4.3.2"
  }
 },
 "nbformat": 4,
 "nbformat_minor": 4
}
